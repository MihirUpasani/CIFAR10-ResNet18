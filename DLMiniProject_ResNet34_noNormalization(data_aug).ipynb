{
  "nbformat": 4,
  "nbformat_minor": 0,
  "metadata": {
    "colab": {
      "provenance": [],
      "machine_shape": "hm"
    },
    "kernelspec": {
      "name": "python3",
      "display_name": "Python 3"
    },
    "language_info": {
      "name": "python"
    },
    "accelerator": "GPU",
    "gpuClass": "premium",
    "widgets": {
      "application/vnd.jupyter.widget-state+json": {
        "26886d0bf78249668dd3be1b4f77e7be": {
          "model_module": "@jupyter-widgets/controls",
          "model_name": "HBoxModel",
          "model_module_version": "1.5.0",
          "state": {
            "_dom_classes": [],
            "_model_module": "@jupyter-widgets/controls",
            "_model_module_version": "1.5.0",
            "_model_name": "HBoxModel",
            "_view_count": null,
            "_view_module": "@jupyter-widgets/controls",
            "_view_module_version": "1.5.0",
            "_view_name": "HBoxView",
            "box_style": "",
            "children": [
              "IPY_MODEL_684bfc50d1794529ba6d7e21093710f9",
              "IPY_MODEL_2c7e5dd967224ffc9abf9cce5b8f3fd3",
              "IPY_MODEL_e9e3b9965e3143aebdd2a0df462af233"
            ],
            "layout": "IPY_MODEL_3381981f5afb458895deb64b2dd997eb"
          }
        },
        "684bfc50d1794529ba6d7e21093710f9": {
          "model_module": "@jupyter-widgets/controls",
          "model_name": "HTMLModel",
          "model_module_version": "1.5.0",
          "state": {
            "_dom_classes": [],
            "_model_module": "@jupyter-widgets/controls",
            "_model_module_version": "1.5.0",
            "_model_name": "HTMLModel",
            "_view_count": null,
            "_view_module": "@jupyter-widgets/controls",
            "_view_module_version": "1.5.0",
            "_view_name": "HTMLView",
            "description": "",
            "description_tooltip": null,
            "layout": "IPY_MODEL_dd102849ec004767ac4704e7f7332a63",
            "placeholder": "​",
            "style": "IPY_MODEL_232c57328f3d4ec79974091d04c2f675",
            "value": "100%"
          }
        },
        "2c7e5dd967224ffc9abf9cce5b8f3fd3": {
          "model_module": "@jupyter-widgets/controls",
          "model_name": "FloatProgressModel",
          "model_module_version": "1.5.0",
          "state": {
            "_dom_classes": [],
            "_model_module": "@jupyter-widgets/controls",
            "_model_module_version": "1.5.0",
            "_model_name": "FloatProgressModel",
            "_view_count": null,
            "_view_module": "@jupyter-widgets/controls",
            "_view_module_version": "1.5.0",
            "_view_name": "ProgressView",
            "bar_style": "success",
            "description": "",
            "description_tooltip": null,
            "layout": "IPY_MODEL_76e96de3630d4075b25c304c6c84ed86",
            "max": 170498071,
            "min": 0,
            "orientation": "horizontal",
            "style": "IPY_MODEL_4cab58dbd6d849b49115af0d4630e39c",
            "value": 170498071
          }
        },
        "e9e3b9965e3143aebdd2a0df462af233": {
          "model_module": "@jupyter-widgets/controls",
          "model_name": "HTMLModel",
          "model_module_version": "1.5.0",
          "state": {
            "_dom_classes": [],
            "_model_module": "@jupyter-widgets/controls",
            "_model_module_version": "1.5.0",
            "_model_name": "HTMLModel",
            "_view_count": null,
            "_view_module": "@jupyter-widgets/controls",
            "_view_module_version": "1.5.0",
            "_view_name": "HTMLView",
            "description": "",
            "description_tooltip": null,
            "layout": "IPY_MODEL_5d50d7816992489ea69b457d9fa578e0",
            "placeholder": "​",
            "style": "IPY_MODEL_922b816041924fbaa8f157843775782c",
            "value": " 170498071/170498071 [00:08&lt;00:00, 26619875.66it/s]"
          }
        },
        "3381981f5afb458895deb64b2dd997eb": {
          "model_module": "@jupyter-widgets/base",
          "model_name": "LayoutModel",
          "model_module_version": "1.2.0",
          "state": {
            "_model_module": "@jupyter-widgets/base",
            "_model_module_version": "1.2.0",
            "_model_name": "LayoutModel",
            "_view_count": null,
            "_view_module": "@jupyter-widgets/base",
            "_view_module_version": "1.2.0",
            "_view_name": "LayoutView",
            "align_content": null,
            "align_items": null,
            "align_self": null,
            "border": null,
            "bottom": null,
            "display": null,
            "flex": null,
            "flex_flow": null,
            "grid_area": null,
            "grid_auto_columns": null,
            "grid_auto_flow": null,
            "grid_auto_rows": null,
            "grid_column": null,
            "grid_gap": null,
            "grid_row": null,
            "grid_template_areas": null,
            "grid_template_columns": null,
            "grid_template_rows": null,
            "height": null,
            "justify_content": null,
            "justify_items": null,
            "left": null,
            "margin": null,
            "max_height": null,
            "max_width": null,
            "min_height": null,
            "min_width": null,
            "object_fit": null,
            "object_position": null,
            "order": null,
            "overflow": null,
            "overflow_x": null,
            "overflow_y": null,
            "padding": null,
            "right": null,
            "top": null,
            "visibility": null,
            "width": null
          }
        },
        "dd102849ec004767ac4704e7f7332a63": {
          "model_module": "@jupyter-widgets/base",
          "model_name": "LayoutModel",
          "model_module_version": "1.2.0",
          "state": {
            "_model_module": "@jupyter-widgets/base",
            "_model_module_version": "1.2.0",
            "_model_name": "LayoutModel",
            "_view_count": null,
            "_view_module": "@jupyter-widgets/base",
            "_view_module_version": "1.2.0",
            "_view_name": "LayoutView",
            "align_content": null,
            "align_items": null,
            "align_self": null,
            "border": null,
            "bottom": null,
            "display": null,
            "flex": null,
            "flex_flow": null,
            "grid_area": null,
            "grid_auto_columns": null,
            "grid_auto_flow": null,
            "grid_auto_rows": null,
            "grid_column": null,
            "grid_gap": null,
            "grid_row": null,
            "grid_template_areas": null,
            "grid_template_columns": null,
            "grid_template_rows": null,
            "height": null,
            "justify_content": null,
            "justify_items": null,
            "left": null,
            "margin": null,
            "max_height": null,
            "max_width": null,
            "min_height": null,
            "min_width": null,
            "object_fit": null,
            "object_position": null,
            "order": null,
            "overflow": null,
            "overflow_x": null,
            "overflow_y": null,
            "padding": null,
            "right": null,
            "top": null,
            "visibility": null,
            "width": null
          }
        },
        "232c57328f3d4ec79974091d04c2f675": {
          "model_module": "@jupyter-widgets/controls",
          "model_name": "DescriptionStyleModel",
          "model_module_version": "1.5.0",
          "state": {
            "_model_module": "@jupyter-widgets/controls",
            "_model_module_version": "1.5.0",
            "_model_name": "DescriptionStyleModel",
            "_view_count": null,
            "_view_module": "@jupyter-widgets/base",
            "_view_module_version": "1.2.0",
            "_view_name": "StyleView",
            "description_width": ""
          }
        },
        "76e96de3630d4075b25c304c6c84ed86": {
          "model_module": "@jupyter-widgets/base",
          "model_name": "LayoutModel",
          "model_module_version": "1.2.0",
          "state": {
            "_model_module": "@jupyter-widgets/base",
            "_model_module_version": "1.2.0",
            "_model_name": "LayoutModel",
            "_view_count": null,
            "_view_module": "@jupyter-widgets/base",
            "_view_module_version": "1.2.0",
            "_view_name": "LayoutView",
            "align_content": null,
            "align_items": null,
            "align_self": null,
            "border": null,
            "bottom": null,
            "display": null,
            "flex": null,
            "flex_flow": null,
            "grid_area": null,
            "grid_auto_columns": null,
            "grid_auto_flow": null,
            "grid_auto_rows": null,
            "grid_column": null,
            "grid_gap": null,
            "grid_row": null,
            "grid_template_areas": null,
            "grid_template_columns": null,
            "grid_template_rows": null,
            "height": null,
            "justify_content": null,
            "justify_items": null,
            "left": null,
            "margin": null,
            "max_height": null,
            "max_width": null,
            "min_height": null,
            "min_width": null,
            "object_fit": null,
            "object_position": null,
            "order": null,
            "overflow": null,
            "overflow_x": null,
            "overflow_y": null,
            "padding": null,
            "right": null,
            "top": null,
            "visibility": null,
            "width": null
          }
        },
        "4cab58dbd6d849b49115af0d4630e39c": {
          "model_module": "@jupyter-widgets/controls",
          "model_name": "ProgressStyleModel",
          "model_module_version": "1.5.0",
          "state": {
            "_model_module": "@jupyter-widgets/controls",
            "_model_module_version": "1.5.0",
            "_model_name": "ProgressStyleModel",
            "_view_count": null,
            "_view_module": "@jupyter-widgets/base",
            "_view_module_version": "1.2.0",
            "_view_name": "StyleView",
            "bar_color": null,
            "description_width": ""
          }
        },
        "5d50d7816992489ea69b457d9fa578e0": {
          "model_module": "@jupyter-widgets/base",
          "model_name": "LayoutModel",
          "model_module_version": "1.2.0",
          "state": {
            "_model_module": "@jupyter-widgets/base",
            "_model_module_version": "1.2.0",
            "_model_name": "LayoutModel",
            "_view_count": null,
            "_view_module": "@jupyter-widgets/base",
            "_view_module_version": "1.2.0",
            "_view_name": "LayoutView",
            "align_content": null,
            "align_items": null,
            "align_self": null,
            "border": null,
            "bottom": null,
            "display": null,
            "flex": null,
            "flex_flow": null,
            "grid_area": null,
            "grid_auto_columns": null,
            "grid_auto_flow": null,
            "grid_auto_rows": null,
            "grid_column": null,
            "grid_gap": null,
            "grid_row": null,
            "grid_template_areas": null,
            "grid_template_columns": null,
            "grid_template_rows": null,
            "height": null,
            "justify_content": null,
            "justify_items": null,
            "left": null,
            "margin": null,
            "max_height": null,
            "max_width": null,
            "min_height": null,
            "min_width": null,
            "object_fit": null,
            "object_position": null,
            "order": null,
            "overflow": null,
            "overflow_x": null,
            "overflow_y": null,
            "padding": null,
            "right": null,
            "top": null,
            "visibility": null,
            "width": null
          }
        },
        "922b816041924fbaa8f157843775782c": {
          "model_module": "@jupyter-widgets/controls",
          "model_name": "DescriptionStyleModel",
          "model_module_version": "1.5.0",
          "state": {
            "_model_module": "@jupyter-widgets/controls",
            "_model_module_version": "1.5.0",
            "_model_name": "DescriptionStyleModel",
            "_view_count": null,
            "_view_module": "@jupyter-widgets/base",
            "_view_module_version": "1.2.0",
            "_view_name": "StyleView",
            "description_width": ""
          }
        }
      }
    }
  },
  "cells": [
    {
      "cell_type": "code",
      "execution_count": 1,
      "metadata": {
        "id": "CYFrBZKUuljO"
      },
      "outputs": [],
      "source": [
        "\"\"\"\n",
        "Authors:\n",
        "Mihir Upasani (mu2047@nyu.edu)\n",
        "Shivani Gawande (sg6630@nyu.edu)\n",
        "Fabiha Khalid\n",
        "\"\"\"\n",
        "import time\n",
        "\n",
        "import numpy as np\n",
        "import torch\n",
        "from matplotlib import pyplot as plt\n",
        "from tqdm import tqdm\n",
        "\n",
        "\n",
        "class Basics():\n",
        "\n",
        "    def __init__(self, model, optimizer, schedule, criterion, training_dl, testing_dl, modelName):\n",
        "        self.model = model\n",
        "        self.optimizer = optimizer\n",
        "        self.schedule = schedule\n",
        "        self.criterion = criterion\n",
        "        self.device = torch.device(\n",
        "            'cuda') if torch.cuda.is_available() else torch.device('cpu')\n",
        "        self.trainingHistory = {\n",
        "            'accuracy': [],\n",
        "            'loss': [],\n",
        "        }\n",
        "        self.testingHistory = {\n",
        "            'accuracy': [],\n",
        "            'loss': [],\n",
        "        }\n",
        "        self.validationHistory = {\n",
        "            'accuracy': [],\n",
        "            'loss': [],\n",
        "        }\n",
        "        self.trainingDataLoader = training_dl\n",
        "        self.testingDataLoader = testing_dl\n",
        "        self.modelName = modelName\n",
        "\n",
        "    def __calculateAccuracy(self, y_pred, y):\n",
        "        top_pred = y_pred.argmax(1, keepdim=True)\n",
        "        correct = top_pred.eq(y.view_as(top_pred)).sum()\n",
        "        acc = correct.float() / y.shape[0]\n",
        "        return acc\n",
        "\n",
        "    def __getTime(self, start_time, end_time):\n",
        "        elapsed_time = end_time - start_time\n",
        "        elapsed_mins = int(elapsed_time / 60)\n",
        "        elapsed_secs = int(elapsed_time - (elapsed_mins * 60))\n",
        "        return elapsed_mins, elapsed_secs\n",
        "\n",
        "    def _countParameters(self):\n",
        "        total_params = 0\n",
        "        for name, parameter in self.model.named_parameters():\n",
        "            params = parameter.numel()\n",
        "            total_params += params\n",
        "        return total_params\n",
        "\n",
        "    def _trainModel(self, epoch):\n",
        "        \"\"\"\n",
        "        Abstraction layer for training steps\n",
        "        1. Make predictions\n",
        "        2. Calculate loss, accuracy\n",
        "        3. Propogate loss backwards and update weights\n",
        "        4. Record statistics, i.e loss, accuracy and time per epoch\n",
        "        \"\"\"\n",
        "\n",
        "        # To indicate model in training phase\n",
        "        # Will also turn on dropout in case we use it\n",
        "        self.model.train()\n",
        "\n",
        "        epoch_loss = 0\n",
        "        epoch_acc = 0\n",
        "\n",
        "        with tqdm(self.trainingDataLoader) as tqdmObject:\n",
        "\n",
        "            startTime = time.time()\n",
        "            for (x, y) in tqdmObject:\n",
        "                tqdmObject.set_description(desc=f\"Epoch {epoch+1}\")\n",
        "                x = x.to(self.device)\n",
        "                y = y.to(self.device)\n",
        "\n",
        "                self.optimizer.zero_grad()\n",
        "\n",
        "                # Step 1\n",
        "                y_pred = self.model(x)\n",
        "\n",
        "                # Step 2\n",
        "                loss = self.criterion(y_pred, y)\n",
        "                acc = self.__calculateAccuracy(y_pred, y)\n",
        "\n",
        "                # Step 3\n",
        "                loss.backward()\n",
        "                self.optimizer.step()\n",
        "                self.optimizer.zero_grad()\n",
        "\n",
        "                epoch_loss += loss.item()\n",
        "                epoch_acc += acc.item()\n",
        "                tqdmObject.set_postfix(accuracy=epoch_acc/len(self.trainingDataLoader),\n",
        "                                       loss=epoch_loss/len(self.trainingDataLoader))\n",
        "            # if self.schedule:\n",
        "            #     self.schedule.step()\n",
        "            endTime = time.time()\n",
        "\n",
        "        trainingMinutes, trainingSeconds = self.__getTime(startTime, endTime)\n",
        "        trainingSeconds += 60 * trainingMinutes\n",
        "        return epoch_acc/len(self.trainingDataLoader), epoch_loss/len(self.trainingDataLoader), trainingSeconds\n",
        "\n",
        "    def _evaluateModel(self):\n",
        "        \"\"\"\n",
        "        Abstraction layer for validation steps\n",
        "        1. Make predictions\n",
        "        2. Calculate loss, accuracy\n",
        "        3. Record statistics, i.e loss, accuracy and time per epoch\n",
        "        \"\"\"\n",
        "\n",
        "        # To indicate model in training phase\n",
        "        # Will also turn on dropout in case we use it\n",
        "        self.model.eval()\n",
        "\n",
        "        epoch_loss = 0\n",
        "        epoch_acc = 0\n",
        "\n",
        "        with torch.no_grad():\n",
        "            for (x, y) in self.testingDataLoader:\n",
        "\n",
        "                x = x.to(self.device)\n",
        "                y = y.to(self.device)\n",
        "\n",
        "                # Step 1\n",
        "                y_pred = self.model(x)\n",
        "\n",
        "                # Step 2\n",
        "                loss = self.criterion(y_pred, y)\n",
        "                acc = self.__calculateAccuracy(y_pred, y)\n",
        "\n",
        "                epoch_loss += loss.item()\n",
        "                epoch_acc += acc.item()\n",
        "\n",
        "        return epoch_acc/len(self.testingDataLoader), epoch_loss/len(self.testingDataLoader)\n",
        "\n",
        "    def trainEpochs(self, epochs=10, plot_results=True):\n",
        "        \"\"\"\n",
        "        Will build more control into it, for now keeping it limited to \n",
        "\n",
        "        epochs: how many epochs to train for\n",
        "        validate: do we even have a validation dataset\n",
        "        plot_results: whether to plot training, testing and validation losses, accuracies \n",
        "        \"\"\"\n",
        "\n",
        "        for epoch in range(epochs):\n",
        "            startTime = time.time()\n",
        "            trainingAccuracy, trainingLoss, trainingSeconds = self._trainModel(\n",
        "                epoch)\n",
        "            testingAccuracy, testingLoss = self._evaluateModel()\n",
        "            endTime = time.time()\n",
        "            self.schedule.step(trainingAccuracy)\n",
        "            epochMinutes, epochSeconds = self.__getTime(startTime, endTime)\n",
        "            epochSeconds += epochMinutes*60\n",
        "            print(\"TrainingLoss:%.2f|TrainingAccuracy:%.2f|EpochTime:%.2fs|TestingLoss:%.2f|TestingAccuracy:%.2f\\n\" % (\n",
        "                trainingLoss, trainingAccuracy*100, epochSeconds, testingLoss, testingAccuracy*100))\n",
        "\n",
        "            self.trainingHistory[\"loss\"].append(trainingLoss)\n",
        "            self.trainingHistory[\"accuracy\"].append(trainingAccuracy)\n",
        "\n",
        "            self.testingHistory[\"loss\"].append(testingLoss)\n",
        "            self.testingHistory[\"accuracy\"].append(testingAccuracy)\n",
        "\n",
        "        if plot_results:\n",
        "\n",
        "            X = np.arange(1, epochs+1)\n",
        "\n",
        "            plt.figure(1)\n",
        "            plt.xlabel(\"Epochs\")\n",
        "            plt.ylabel(\"Loss\")\n",
        "            plt.plot(X, self.trainingHistory['loss'], label='train_loss')\n",
        "            plt.plot(X, self.testingHistory['loss'], label='test_loss')\n",
        "            plt.legend()\n",
        "            #plt.savefig(\"./outputs/\" + self.modelName + \"LossVsEpochs.jpg\")\n",
        "\n",
        "            plt.figure(2)\n",
        "            plt.xlabel(\"Epochs\")\n",
        "            plt.ylabel(\"Loss\")\n",
        "            plt.plot(\n",
        "                X, self.trainingHistory['accuracy'], label='train_acc')\n",
        "            plt.plot(\n",
        "                X, self.testingHistory['accuracy'], label='test_acc')\n",
        "            plt.legend()\n",
        "            #plt.savefig(\"./outputs/\" + self.modelName + \"AccVsEpochs.jpg\")"
      ]
    },
    {
      "cell_type": "code",
      "source": [
        "'''ResNet in PyTorch.\n",
        "For Pre-activation ResNet, see 'preact_resnet.py'.\n",
        "Reference:\n",
        "[1] Kaiming He, Xiangyu Zhang, Shaoqing Ren, Jian Sun\n",
        "    Deep Residual Learning for Image Recognition. arXiv:1512.03385\n",
        "'''\n",
        "import torch\n",
        "import torch.nn as nn\n",
        "import torch.nn.functional as F\n",
        "from torchsummary import summary\n",
        "\n",
        "\n",
        "class BasicBlock(nn.Module):\n",
        "    expansion = 1\n",
        "\n",
        "    def __init__(self, in_planes, planes, stride=1, kernel_size=3):\n",
        "        super(BasicBlock, self).__init__()\n",
        "        self.conv1 = nn.Conv2d(\n",
        "            in_planes, planes, kernel_size=kernel_size, stride=stride, padding=1, bias=False)\n",
        "        self.bn1 = nn.BatchNorm2d(planes)\n",
        "        self.conv2 = nn.Conv2d(planes, planes, kernel_size=kernel_size,\n",
        "                               stride=1, padding=1, bias=False)\n",
        "        self.bn2 = nn.BatchNorm2d(planes)\n",
        "\n",
        "        self.shortcut = nn.Sequential()\n",
        "        if stride != 1 or in_planes != self.expansion*planes:\n",
        "            self.shortcut = nn.Sequential(\n",
        "                nn.Conv2d(in_planes, self.expansion*planes,\n",
        "                          kernel_size=1, stride=stride, bias=False),\n",
        "                nn.BatchNorm2d(self.expansion*planes),\n",
        "            )\n",
        "\n",
        "    def forward(self, x):\n",
        "        out = F.relu(self.bn1(self.conv1(x)))\n",
        "        out = self.bn2(self.conv2(out))\n",
        "        out += self.shortcut(x)\n",
        "        out = F.relu(out)\n",
        "        return out\n",
        "\n",
        "\n",
        "class Bottleneck(nn.Module):\n",
        "    expansion = 4\n",
        "\n",
        "    def __init__(self, in_planes, planes, stride=1):\n",
        "        super(Bottleneck, self).__init__()\n",
        "        self.conv1 = nn.Conv2d(in_planes, planes, kernel_size=1, bias=False)\n",
        "        self.bn1 = nn.BatchNorm2d(planes)\n",
        "        self.conv2 = nn.Conv2d(planes, planes, kernel_size=3,\n",
        "                               stride=stride, padding=1, bias=False)\n",
        "        self.bn2 = nn.BatchNorm2d(planes)\n",
        "        self.conv3 = nn.Conv2d(planes, self.expansion *\n",
        "                               planes, kernel_size=1, bias=False)\n",
        "        self.bn3 = nn.BatchNorm2d(self.expansion*planes)\n",
        "\n",
        "        self.shortcut = nn.Sequential()\n",
        "        if stride != 1 or in_planes != self.expansion*planes:\n",
        "            self.shortcut = nn.Sequential(\n",
        "                nn.Conv2d(in_planes, self.expansion*planes,\n",
        "                          kernel_size=1, stride=stride, bias=False),\n",
        "                nn.BatchNorm2d(self.expansion*planes)\n",
        "            )\n",
        "\n",
        "    def forward(self, x):\n",
        "        out = F.relu(self.bn1(self.conv1(x)))\n",
        "        out = F.relu(self.bn2(self.conv2(out)))\n",
        "        out = self.bn3(self.conv3(out))\n",
        "        out += self.shortcut(x)\n",
        "        out = F.relu(out)\n",
        "        return out\n",
        "\n",
        "\n",
        "class ResNet(nn.Module):\n",
        "    def __init__(self, block, num_blocks, num_classes=10):\n",
        "        super(ResNet, self).__init__()\n",
        "        self.in_planes = 64\n",
        "\n",
        "        self.conv1 = nn.Conv2d(3, 64, kernel_size=3,\n",
        "                               stride=1, padding=1, bias=False)\n",
        "        self.bn1 = nn.BatchNorm2d(64)\n",
        "        self.layer1 = self._make_layer(block, 64, num_blocks[0], stride=1)\n",
        "        self.layer2 = self._make_layer(block, 128, num_blocks[1], stride=2)\n",
        "        self.layer3 = self._make_layer(block, 256, num_blocks[2], stride=2)\n",
        "        self.layer4 = self._make_layer(block, 512, num_blocks[3], stride=2)\n",
        "        self.linear1 = nn.Linear(512*block.expansion, num_classes)\n",
        "\n",
        "    def _make_layer(self, block, planes, num_blocks, stride, kernel_size=3):\n",
        "        strides = [stride] + [1]*(num_blocks-1)\n",
        "        layers = []\n",
        "        for stride in strides:\n",
        "            layers.append(block(self.in_planes, planes, stride, kernel_size))\n",
        "            self.in_planes = planes * block.expansion\n",
        "        return nn.Sequential(*layers)\n",
        "\n",
        "    def forward(self, x):\n",
        "        out = F.relu(self.bn1(self.conv1(x)))\n",
        "        out = self.layer1(out)\n",
        "        out = self.layer2(out)\n",
        "        out = self.layer3(out)\n",
        "        out = self.layer4(out)\n",
        "        out = F.avg_pool2d(out, 4)\n",
        "        out = out.view(out.size(0), -1)\n",
        "        out = self.linear1(out)\n",
        "        return out\n",
        "\n",
        "\n",
        "def ResNet18():\n",
        "    return ResNet(BasicBlock, [2, 2, 2, 2])\n",
        "\n",
        "\n",
        "def ResNet18_mod():\n",
        "    return ResNet(BasicBlock, [2, 1, 1, 1])\n",
        "\n",
        "\n",
        "def ResNet34():\n",
        "    return ResNet(BasicBlock, [3, 4, 6, 3])\n",
        "\n",
        "\n",
        "def ResNet50():\n",
        "    return ResNet(Bottleneck, [3, 4, 6, 3])\n",
        "\n",
        "\n",
        "def ResNet101():\n",
        "    return ResNet(Bottleneck, [3, 4, 23, 3])\n",
        "\n",
        "\n",
        "def ResNet152():\n",
        "    return ResNet(Bottleneck, [3, 8, 36, 3])\n",
        "\n",
        "\n",
        "def test():\n",
        "    device = torch.device(\"cuda\" if torch.cuda.is_available()\n",
        "                          else \"cpu\")  # PyTorch v0.4.0\n",
        "    net = ResNet34().to(device)\n",
        "    summary(net, (3, 28, 28))\n",
        "    # y = net(torch.randn(1, 3, 32, 32))\n",
        "    # print(y.size())"
      ],
      "metadata": {
        "id": "IrKbC08XuswB"
      },
      "execution_count": 2,
      "outputs": []
    },
    {
      "cell_type": "code",
      "source": [
        "from math import sqrt\n",
        "\n",
        "import torch\n",
        "import torch.nn as nn\n",
        "import torch.nn.functional as F\n",
        "import torch.nn.init as init\n",
        "import torch.optim as optim\n",
        "import torch.utils.data as data\n",
        "import torchvision.datasets as datasets\n",
        "import torchvision.transforms as transforms\n",
        "from torchsummary import summary\n",
        "\n",
        "\n",
        "# Defining constants, based on assignment\n",
        "OUTPUT_CLASSES = 10\n",
        "IO_PROCESSES = 2\n",
        "FLIP_PROBABILITY = 0.5\n",
        "TRAINING_BATCH_SIZE = 32\n",
        "TESTING_BATCH_SIZE = 256\n",
        "EPOCHS = 60\n",
        "LEARNING_RATE = 0.01\n",
        "MOMENTUM = 0.9\n",
        "WEIGHT_DECAY = 5e-4\n",
        "ROOT = \"./.data\"\n",
        "MAX_PARAMS = 5000000\n",
        "\n",
        "# Lets start by defning transforms.\n",
        "# I'm going to assume that transforms are a part of the learning process\n",
        "# This implies that no transformations will be applied to the testing data\n",
        "# Except the normalization step obviously\n",
        "training_transformations = transforms.Compose(\n",
        "    [\n",
        "        transforms.RandomCrop(\n",
        "            size=(32, 32), padding=4),\n",
        "        transforms.RandomHorizontalFlip(\n",
        "            FLIP_PROBABILITY),\n",
        "        transforms.ToTensor()\n",
        "    ]\n",
        ")\n",
        "\n",
        "testing_transformations = transforms.Compose(\n",
        "    [\n",
        "        transforms.ToTensor()\n",
        "    ]\n",
        ")\n",
        "\n",
        "\n",
        "def downloadData(ROOT):\n",
        "    # Now we load training amd testing data\n",
        "    # Note, this is different to the DataLoader step. That shall come after this\n",
        "    training_data = datasets.CIFAR10(\n",
        "        ROOT,\n",
        "        train=True,\n",
        "        download=True,\n",
        "        transform=training_transformations\n",
        "    )\n",
        "\n",
        "    testing_data = datasets.CIFAR10(\n",
        "        ROOT,\n",
        "        train=False,\n",
        "        download=True,\n",
        "        transform=testing_transformations\n",
        "    )\n",
        "\n",
        "    return training_data, testing_data\n",
        "\n",
        "\n",
        "if __name__ == \"__main__\":\n",
        "\n",
        "    trainingData, testingData = downloadData(ROOT)\n",
        "\n",
        "    trainingDataLoader = torch.utils.data.DataLoader(\n",
        "        dataset=trainingData,\n",
        "        batch_size=TRAINING_BATCH_SIZE,\n",
        "        shuffle=True\n",
        "    )\n",
        "    testingDataLoader = torch.utils.data.DataLoader(\n",
        "        dataset=testingData,\n",
        "        batch_size=TESTING_BATCH_SIZE,\n",
        "        shuffle=True\n",
        "    )\n",
        "    device = torch.device(\"cuda\" if torch.cuda.is_available()\n",
        "                          else \"cpu\")\n",
        "\n",
        "    model = ResNet18_mod().to(device)\n",
        "\n",
        "    modelParams = model.parameters()\n",
        "    setParams = {\n",
        "        \"params\": modelParams,\n",
        "        \"lr\": LEARNING_RATE,\n",
        "        \"momentum\": MOMENTUM,\n",
        "        \"weight_decay\": WEIGHT_DECAY,\n",
        "        \"nesterov\": True,\n",
        "    }\n",
        "\n",
        "    optimizer = optim.SGD(**setParams)\n",
        "    # optimizer = optim.Adam(**setParams)\n",
        "    lossFunction = nn.CrossEntropyLoss()\n",
        "    sched = torch.optim.lr_scheduler.OneCycleLR(optimizer, LEARNING_RATE, epochs=EPOCHS,\n",
        "                                                 steps_per_epoch=len(trainingDataLoader))\n",
        "    '''sched = torch.optim.lr_scheduler.ReduceLROnPlateau(\n",
        "        optimizer, mode='max', factor=0.5, patience=0) '''\n",
        "\n",
        "    trainingAbstraction = Basics(\n",
        "        model, optimizer, sched, lossFunction, trainingDataLoader, testingDataLoader, modelName=\"Attempt18\")\n",
        "\n",
        "    parameters = trainingAbstraction._countParameters()\n",
        "    print(f\"Model has {parameters} parameters\")\n",
        "    assert parameters <= MAX_PARAMS\n",
        "    print(f\"You have {MAX_PARAMS-parameters} left!\")\n",
        "    summary(model, (3, 32, 32))\n",
        "\n",
        "    trainingAbstraction.trainEpochs(EPOCHS)\n"
      ],
      "metadata": {
        "colab": {
          "base_uri": "https://localhost:8080/",
          "height": 1000,
          "referenced_widgets": [
            "26886d0bf78249668dd3be1b4f77e7be",
            "684bfc50d1794529ba6d7e21093710f9",
            "2c7e5dd967224ffc9abf9cce5b8f3fd3",
            "e9e3b9965e3143aebdd2a0df462af233",
            "3381981f5afb458895deb64b2dd997eb",
            "dd102849ec004767ac4704e7f7332a63",
            "232c57328f3d4ec79974091d04c2f675",
            "76e96de3630d4075b25c304c6c84ed86",
            "4cab58dbd6d849b49115af0d4630e39c",
            "5d50d7816992489ea69b457d9fa578e0",
            "922b816041924fbaa8f157843775782c"
          ]
        },
        "id": "lJ470-WGuu4M",
        "outputId": "74f78d10-12e0-4032-aab0-4638a645678d"
      },
      "execution_count": 3,
      "outputs": [
        {
          "output_type": "stream",
          "name": "stdout",
          "text": [
            "Downloading https://www.cs.toronto.edu/~kriz/cifar-10-python.tar.gz to ./.data/cifar-10-python.tar.gz\n"
          ]
        },
        {
          "output_type": "display_data",
          "data": {
            "text/plain": [
              "  0%|          | 0/170498071 [00:00<?, ?it/s]"
            ],
            "application/vnd.jupyter.widget-view+json": {
              "version_major": 2,
              "version_minor": 0,
              "model_id": "26886d0bf78249668dd3be1b4f77e7be"
            }
          },
          "metadata": {}
        },
        {
          "output_type": "stream",
          "name": "stdout",
          "text": [
            "Extracting ./.data/cifar-10-python.tar.gz to ./.data\n",
            "Files already downloaded and verified\n",
            "Model has 4977226 parameters\n",
            "You have 22774 left!\n",
            "----------------------------------------------------------------\n",
            "        Layer (type)               Output Shape         Param #\n",
            "================================================================\n",
            "            Conv2d-1           [-1, 64, 32, 32]           1,728\n",
            "       BatchNorm2d-2           [-1, 64, 32, 32]             128\n",
            "            Conv2d-3           [-1, 64, 32, 32]          36,864\n",
            "       BatchNorm2d-4           [-1, 64, 32, 32]             128\n",
            "            Conv2d-5           [-1, 64, 32, 32]          36,864\n",
            "       BatchNorm2d-6           [-1, 64, 32, 32]             128\n",
            "        BasicBlock-7           [-1, 64, 32, 32]               0\n",
            "            Conv2d-8           [-1, 64, 32, 32]          36,864\n",
            "       BatchNorm2d-9           [-1, 64, 32, 32]             128\n",
            "           Conv2d-10           [-1, 64, 32, 32]          36,864\n",
            "      BatchNorm2d-11           [-1, 64, 32, 32]             128\n",
            "       BasicBlock-12           [-1, 64, 32, 32]               0\n",
            "           Conv2d-13          [-1, 128, 16, 16]          73,728\n",
            "      BatchNorm2d-14          [-1, 128, 16, 16]             256\n",
            "           Conv2d-15          [-1, 128, 16, 16]         147,456\n",
            "      BatchNorm2d-16          [-1, 128, 16, 16]             256\n",
            "           Conv2d-17          [-1, 128, 16, 16]           8,192\n",
            "      BatchNorm2d-18          [-1, 128, 16, 16]             256\n",
            "       BasicBlock-19          [-1, 128, 16, 16]               0\n",
            "           Conv2d-20            [-1, 256, 8, 8]         294,912\n",
            "      BatchNorm2d-21            [-1, 256, 8, 8]             512\n",
            "           Conv2d-22            [-1, 256, 8, 8]         589,824\n",
            "      BatchNorm2d-23            [-1, 256, 8, 8]             512\n",
            "           Conv2d-24            [-1, 256, 8, 8]          32,768\n",
            "      BatchNorm2d-25            [-1, 256, 8, 8]             512\n",
            "       BasicBlock-26            [-1, 256, 8, 8]               0\n",
            "           Conv2d-27            [-1, 512, 4, 4]       1,179,648\n",
            "      BatchNorm2d-28            [-1, 512, 4, 4]           1,024\n",
            "           Conv2d-29            [-1, 512, 4, 4]       2,359,296\n",
            "      BatchNorm2d-30            [-1, 512, 4, 4]           1,024\n",
            "           Conv2d-31            [-1, 512, 4, 4]         131,072\n",
            "      BatchNorm2d-32            [-1, 512, 4, 4]           1,024\n",
            "       BasicBlock-33            [-1, 512, 4, 4]               0\n",
            "           Linear-34                   [-1, 10]           5,130\n",
            "================================================================\n",
            "Total params: 4,977,226\n",
            "Trainable params: 4,977,226\n",
            "Non-trainable params: 0\n",
            "----------------------------------------------------------------\n",
            "Input size (MB): 0.01\n",
            "Forward/backward pass size (MB): 9.06\n",
            "Params size (MB): 18.99\n",
            "Estimated Total Size (MB): 28.06\n",
            "----------------------------------------------------------------\n"
          ]
        },
        {
          "output_type": "stream",
          "name": "stderr",
          "text": [
            "Epoch 1: 100%|██████████| 1563/1563 [00:37<00:00, 41.38it/s, accuracy=0.45, loss=1.5]\n",
            "/usr/local/lib/python3.7/dist-packages/torch/optim/lr_scheduler.py:156: UserWarning: The epoch parameter in `scheduler.step()` was not necessary and is being deprecated where possible. Please use `scheduler.step()` to step the scheduler. During the deprecation, if epoch is different from None, the closed form is used instead of the new chainable form, where available. Please open an issue if you are unable to replicate your use case: https://github.com/pytorch/pytorch/issues/new/choose.\n",
            "  warnings.warn(EPOCH_DEPRECATION_WARNING, UserWarning)\n"
          ]
        },
        {
          "output_type": "stream",
          "name": "stdout",
          "text": [
            "TrainingLoss:1.50|TrainingAccuracy:45.02|EpochTime:39.00s|TestingLoss:1.23|TestingAccuracy:56.07\n",
            "\n"
          ]
        },
        {
          "output_type": "stream",
          "name": "stderr",
          "text": [
            "Epoch 2: 100%|██████████| 1563/1563 [00:36<00:00, 42.62it/s, accuracy=0.611, loss=1.09]\n"
          ]
        },
        {
          "output_type": "stream",
          "name": "stdout",
          "text": [
            "TrainingLoss:1.09|TrainingAccuracy:61.13|EpochTime:38.00s|TestingLoss:1.04|TestingAccuracy:63.46\n",
            "\n"
          ]
        },
        {
          "output_type": "stream",
          "name": "stderr",
          "text": [
            "Epoch 3: 100%|██████████| 1563/1563 [00:36<00:00, 42.60it/s, accuracy=0.679, loss=0.914]\n"
          ]
        },
        {
          "output_type": "stream",
          "name": "stdout",
          "text": [
            "TrainingLoss:0.91|TrainingAccuracy:67.90|EpochTime:38.00s|TestingLoss:0.88|TestingAccuracy:69.29\n",
            "\n"
          ]
        },
        {
          "output_type": "stream",
          "name": "stderr",
          "text": [
            "Epoch 4: 100%|██████████| 1563/1563 [00:36<00:00, 42.55it/s, accuracy=0.719, loss=0.799]\n"
          ]
        },
        {
          "output_type": "stream",
          "name": "stdout",
          "text": [
            "TrainingLoss:0.80|TrainingAccuracy:71.94|EpochTime:38.00s|TestingLoss:0.82|TestingAccuracy:71.51\n",
            "\n"
          ]
        },
        {
          "output_type": "stream",
          "name": "stderr",
          "text": [
            "Epoch 5: 100%|██████████| 1563/1563 [00:36<00:00, 42.56it/s, accuracy=0.755, loss=0.701]\n"
          ]
        },
        {
          "output_type": "stream",
          "name": "stdout",
          "text": [
            "TrainingLoss:0.70|TrainingAccuracy:75.55|EpochTime:38.00s|TestingLoss:0.79|TestingAccuracy:73.87\n",
            "\n"
          ]
        },
        {
          "output_type": "stream",
          "name": "stderr",
          "text": [
            "Epoch 6: 100%|██████████| 1563/1563 [00:36<00:00, 42.41it/s, accuracy=0.779, loss=0.641]\n"
          ]
        },
        {
          "output_type": "stream",
          "name": "stdout",
          "text": [
            "TrainingLoss:0.64|TrainingAccuracy:77.94|EpochTime:38.00s|TestingLoss:0.65|TestingAccuracy:77.99\n",
            "\n"
          ]
        },
        {
          "output_type": "stream",
          "name": "stderr",
          "text": [
            "Epoch 7: 100%|██████████| 1563/1563 [00:36<00:00, 42.56it/s, accuracy=0.797, loss=0.585]\n"
          ]
        },
        {
          "output_type": "stream",
          "name": "stdout",
          "text": [
            "TrainingLoss:0.58|TrainingAccuracy:79.70|EpochTime:38.00s|TestingLoss:0.59|TestingAccuracy:79.97\n",
            "\n"
          ]
        },
        {
          "output_type": "stream",
          "name": "stderr",
          "text": [
            "Epoch 8: 100%|██████████| 1563/1563 [00:37<00:00, 42.23it/s, accuracy=0.813, loss=0.545]\n"
          ]
        },
        {
          "output_type": "stream",
          "name": "stdout",
          "text": [
            "TrainingLoss:0.55|TrainingAccuracy:81.27|EpochTime:38.00s|TestingLoss:0.56|TestingAccuracy:81.21\n",
            "\n"
          ]
        },
        {
          "output_type": "stream",
          "name": "stderr",
          "text": [
            "Epoch 9: 100%|██████████| 1563/1563 [00:36<00:00, 42.34it/s, accuracy=0.826, loss=0.507]\n"
          ]
        },
        {
          "output_type": "stream",
          "name": "stdout",
          "text": [
            "TrainingLoss:0.51|TrainingAccuracy:82.60|EpochTime:38.00s|TestingLoss:0.55|TestingAccuracy:81.70\n",
            "\n"
          ]
        },
        {
          "output_type": "stream",
          "name": "stderr",
          "text": [
            "Epoch 10: 100%|██████████| 1563/1563 [00:36<00:00, 42.30it/s, accuracy=0.834, loss=0.481]\n"
          ]
        },
        {
          "output_type": "stream",
          "name": "stdout",
          "text": [
            "TrainingLoss:0.48|TrainingAccuracy:83.41|EpochTime:38.00s|TestingLoss:0.56|TestingAccuracy:81.77\n",
            "\n"
          ]
        },
        {
          "output_type": "stream",
          "name": "stderr",
          "text": [
            "Epoch 11: 100%|██████████| 1563/1563 [00:37<00:00, 42.18it/s, accuracy=0.843, loss=0.455]\n"
          ]
        },
        {
          "output_type": "stream",
          "name": "stdout",
          "text": [
            "TrainingLoss:0.45|TrainingAccuracy:84.35|EpochTime:38.00s|TestingLoss:0.52|TestingAccuracy:83.29\n",
            "\n"
          ]
        },
        {
          "output_type": "stream",
          "name": "stderr",
          "text": [
            "Epoch 12: 100%|██████████| 1563/1563 [00:36<00:00, 42.37it/s, accuracy=0.853, loss=0.427]\n"
          ]
        },
        {
          "output_type": "stream",
          "name": "stdout",
          "text": [
            "TrainingLoss:0.43|TrainingAccuracy:85.32|EpochTime:38.00s|TestingLoss:0.51|TestingAccuracy:83.34\n",
            "\n"
          ]
        },
        {
          "output_type": "stream",
          "name": "stderr",
          "text": [
            "Epoch 13: 100%|██████████| 1563/1563 [00:36<00:00, 42.50it/s, accuracy=0.862, loss=0.404]\n"
          ]
        },
        {
          "output_type": "stream",
          "name": "stdout",
          "text": [
            "TrainingLoss:0.40|TrainingAccuracy:86.18|EpochTime:38.00s|TestingLoss:0.47|TestingAccuracy:84.64\n",
            "\n"
          ]
        },
        {
          "output_type": "stream",
          "name": "stderr",
          "text": [
            "Epoch 14: 100%|██████████| 1563/1563 [00:36<00:00, 42.34it/s, accuracy=0.868, loss=0.39]\n"
          ]
        },
        {
          "output_type": "stream",
          "name": "stdout",
          "text": [
            "TrainingLoss:0.39|TrainingAccuracy:86.77|EpochTime:38.00s|TestingLoss:0.44|TestingAccuracy:84.70\n",
            "\n"
          ]
        },
        {
          "output_type": "stream",
          "name": "stderr",
          "text": [
            "Epoch 15: 100%|██████████| 1563/1563 [00:36<00:00, 42.44it/s, accuracy=0.87, loss=0.378]\n"
          ]
        },
        {
          "output_type": "stream",
          "name": "stdout",
          "text": [
            "TrainingLoss:0.38|TrainingAccuracy:87.04|EpochTime:38.00s|TestingLoss:0.48|TestingAccuracy:84.33\n",
            "\n"
          ]
        },
        {
          "output_type": "stream",
          "name": "stderr",
          "text": [
            "Epoch 16: 100%|██████████| 1563/1563 [00:36<00:00, 42.35it/s, accuracy=0.879, loss=0.355]\n"
          ]
        },
        {
          "output_type": "stream",
          "name": "stdout",
          "text": [
            "TrainingLoss:0.36|TrainingAccuracy:87.91|EpochTime:38.00s|TestingLoss:0.43|TestingAccuracy:85.23\n",
            "\n"
          ]
        },
        {
          "output_type": "stream",
          "name": "stderr",
          "text": [
            "Epoch 17: 100%|██████████| 1563/1563 [00:36<00:00, 42.41it/s, accuracy=0.884, loss=0.337]\n"
          ]
        },
        {
          "output_type": "stream",
          "name": "stdout",
          "text": [
            "TrainingLoss:0.34|TrainingAccuracy:88.43|EpochTime:38.00s|TestingLoss:0.47|TestingAccuracy:84.63\n",
            "\n"
          ]
        },
        {
          "output_type": "stream",
          "name": "stderr",
          "text": [
            "Epoch 18: 100%|██████████| 1563/1563 [00:36<00:00, 42.37it/s, accuracy=0.887, loss=0.328]\n"
          ]
        },
        {
          "output_type": "stream",
          "name": "stdout",
          "text": [
            "TrainingLoss:0.33|TrainingAccuracy:88.66|EpochTime:38.00s|TestingLoss:0.44|TestingAccuracy:86.10\n",
            "\n"
          ]
        },
        {
          "output_type": "stream",
          "name": "stderr",
          "text": [
            "Epoch 19: 100%|██████████| 1563/1563 [00:36<00:00, 42.43it/s, accuracy=0.891, loss=0.319]\n"
          ]
        },
        {
          "output_type": "stream",
          "name": "stdout",
          "text": [
            "TrainingLoss:0.32|TrainingAccuracy:89.05|EpochTime:38.00s|TestingLoss:0.37|TestingAccuracy:87.75\n",
            "\n"
          ]
        },
        {
          "output_type": "stream",
          "name": "stderr",
          "text": [
            "Epoch 20: 100%|██████████| 1563/1563 [00:36<00:00, 42.49it/s, accuracy=0.896, loss=0.3]\n"
          ]
        },
        {
          "output_type": "stream",
          "name": "stdout",
          "text": [
            "TrainingLoss:0.30|TrainingAccuracy:89.65|EpochTime:38.00s|TestingLoss:0.41|TestingAccuracy:86.58\n",
            "\n"
          ]
        },
        {
          "output_type": "stream",
          "name": "stderr",
          "text": [
            "Epoch 21: 100%|██████████| 1563/1563 [00:36<00:00, 42.44it/s, accuracy=0.899, loss=0.292]\n"
          ]
        },
        {
          "output_type": "stream",
          "name": "stdout",
          "text": [
            "TrainingLoss:0.29|TrainingAccuracy:89.94|EpochTime:38.00s|TestingLoss:0.43|TestingAccuracy:86.47\n",
            "\n"
          ]
        },
        {
          "output_type": "stream",
          "name": "stderr",
          "text": [
            "Epoch 22: 100%|██████████| 1563/1563 [00:36<00:00, 42.38it/s, accuracy=0.904, loss=0.279]\n"
          ]
        },
        {
          "output_type": "stream",
          "name": "stdout",
          "text": [
            "TrainingLoss:0.28|TrainingAccuracy:90.36|EpochTime:38.00s|TestingLoss:0.40|TestingAccuracy:86.66\n",
            "\n"
          ]
        },
        {
          "output_type": "stream",
          "name": "stderr",
          "text": [
            "Epoch 23: 100%|██████████| 1563/1563 [00:37<00:00, 42.22it/s, accuracy=0.908, loss=0.268]\n"
          ]
        },
        {
          "output_type": "stream",
          "name": "stdout",
          "text": [
            "TrainingLoss:0.27|TrainingAccuracy:90.80|EpochTime:38.00s|TestingLoss:0.39|TestingAccuracy:87.03\n",
            "\n"
          ]
        },
        {
          "output_type": "stream",
          "name": "stderr",
          "text": [
            "Epoch 24: 100%|██████████| 1563/1563 [00:37<00:00, 41.91it/s, accuracy=0.911, loss=0.26]\n"
          ]
        },
        {
          "output_type": "stream",
          "name": "stdout",
          "text": [
            "TrainingLoss:0.26|TrainingAccuracy:91.12|EpochTime:38.00s|TestingLoss:0.38|TestingAccuracy:87.61\n",
            "\n"
          ]
        },
        {
          "output_type": "stream",
          "name": "stderr",
          "text": [
            "Epoch 25: 100%|██████████| 1563/1563 [00:36<00:00, 42.41it/s, accuracy=0.914, loss=0.249]\n"
          ]
        },
        {
          "output_type": "stream",
          "name": "stdout",
          "text": [
            "TrainingLoss:0.25|TrainingAccuracy:91.41|EpochTime:38.00s|TestingLoss:0.37|TestingAccuracy:88.19\n",
            "\n"
          ]
        },
        {
          "output_type": "stream",
          "name": "stderr",
          "text": [
            "Epoch 26: 100%|██████████| 1563/1563 [00:36<00:00, 42.69it/s, accuracy=0.916, loss=0.245]\n"
          ]
        },
        {
          "output_type": "stream",
          "name": "stdout",
          "text": [
            "TrainingLoss:0.25|TrainingAccuracy:91.65|EpochTime:38.00s|TestingLoss:0.37|TestingAccuracy:87.60\n",
            "\n"
          ]
        },
        {
          "output_type": "stream",
          "name": "stderr",
          "text": [
            "Epoch 27: 100%|██████████| 1563/1563 [00:36<00:00, 42.35it/s, accuracy=0.919, loss=0.233]\n"
          ]
        },
        {
          "output_type": "stream",
          "name": "stdout",
          "text": [
            "TrainingLoss:0.23|TrainingAccuracy:91.90|EpochTime:38.00s|TestingLoss:0.41|TestingAccuracy:87.33\n",
            "\n"
          ]
        },
        {
          "output_type": "stream",
          "name": "stderr",
          "text": [
            "Epoch 28: 100%|██████████| 1563/1563 [00:36<00:00, 42.44it/s, accuracy=0.92, loss=0.231]\n"
          ]
        },
        {
          "output_type": "stream",
          "name": "stdout",
          "text": [
            "TrainingLoss:0.23|TrainingAccuracy:91.96|EpochTime:38.00s|TestingLoss:0.35|TestingAccuracy:88.70\n",
            "\n"
          ]
        },
        {
          "output_type": "stream",
          "name": "stderr",
          "text": [
            "Epoch 29: 100%|██████████| 1563/1563 [00:36<00:00, 42.34it/s, accuracy=0.922, loss=0.221]\n"
          ]
        },
        {
          "output_type": "stream",
          "name": "stdout",
          "text": [
            "TrainingLoss:0.22|TrainingAccuracy:92.21|EpochTime:38.00s|TestingLoss:0.34|TestingAccuracy:89.28\n",
            "\n"
          ]
        },
        {
          "output_type": "stream",
          "name": "stderr",
          "text": [
            "Epoch 30: 100%|██████████| 1563/1563 [00:36<00:00, 42.29it/s, accuracy=0.926, loss=0.212]\n"
          ]
        },
        {
          "output_type": "stream",
          "name": "stdout",
          "text": [
            "TrainingLoss:0.21|TrainingAccuracy:92.64|EpochTime:38.00s|TestingLoss:0.39|TestingAccuracy:87.97\n",
            "\n"
          ]
        },
        {
          "output_type": "stream",
          "name": "stderr",
          "text": [
            "Epoch 31: 100%|██████████| 1563/1563 [00:36<00:00, 42.30it/s, accuracy=0.929, loss=0.205]\n"
          ]
        },
        {
          "output_type": "stream",
          "name": "stdout",
          "text": [
            "TrainingLoss:0.21|TrainingAccuracy:92.90|EpochTime:38.00s|TestingLoss:0.38|TestingAccuracy:88.22\n",
            "\n"
          ]
        },
        {
          "output_type": "stream",
          "name": "stderr",
          "text": [
            "Epoch 32: 100%|██████████| 1563/1563 [00:36<00:00, 42.27it/s, accuracy=0.929, loss=0.204]\n"
          ]
        },
        {
          "output_type": "stream",
          "name": "stdout",
          "text": [
            "TrainingLoss:0.20|TrainingAccuracy:92.91|EpochTime:38.00s|TestingLoss:0.37|TestingAccuracy:88.51\n",
            "\n"
          ]
        },
        {
          "output_type": "stream",
          "name": "stderr",
          "text": [
            "Epoch 33: 100%|██████████| 1563/1563 [00:36<00:00, 42.25it/s, accuracy=0.932, loss=0.195]\n"
          ]
        },
        {
          "output_type": "stream",
          "name": "stdout",
          "text": [
            "TrainingLoss:0.20|TrainingAccuracy:93.24|EpochTime:38.00s|TestingLoss:0.33|TestingAccuracy:89.05\n",
            "\n"
          ]
        },
        {
          "output_type": "stream",
          "name": "stderr",
          "text": [
            "Epoch 34: 100%|██████████| 1563/1563 [00:36<00:00, 42.46it/s, accuracy=0.936, loss=0.185]\n"
          ]
        },
        {
          "output_type": "stream",
          "name": "stdout",
          "text": [
            "TrainingLoss:0.18|TrainingAccuracy:93.62|EpochTime:38.00s|TestingLoss:0.36|TestingAccuracy:89.06\n",
            "\n"
          ]
        },
        {
          "output_type": "stream",
          "name": "stderr",
          "text": [
            "Epoch 35: 100%|██████████| 1563/1563 [00:36<00:00, 42.39it/s, accuracy=0.941, loss=0.176]\n"
          ]
        },
        {
          "output_type": "stream",
          "name": "stdout",
          "text": [
            "TrainingLoss:0.18|TrainingAccuracy:94.09|EpochTime:38.00s|TestingLoss:0.36|TestingAccuracy:88.83\n",
            "\n"
          ]
        },
        {
          "output_type": "stream",
          "name": "stderr",
          "text": [
            "Epoch 36: 100%|██████████| 1563/1563 [00:36<00:00, 42.37it/s, accuracy=0.938, loss=0.177]\n"
          ]
        },
        {
          "output_type": "stream",
          "name": "stdout",
          "text": [
            "TrainingLoss:0.18|TrainingAccuracy:93.81|EpochTime:38.00s|TestingLoss:0.34|TestingAccuracy:89.42\n",
            "\n"
          ]
        },
        {
          "output_type": "stream",
          "name": "stderr",
          "text": [
            "Epoch 37: 100%|██████████| 1563/1563 [00:37<00:00, 42.21it/s, accuracy=0.943, loss=0.167]\n"
          ]
        },
        {
          "output_type": "stream",
          "name": "stdout",
          "text": [
            "TrainingLoss:0.17|TrainingAccuracy:94.28|EpochTime:38.00s|TestingLoss:0.34|TestingAccuracy:89.40\n",
            "\n"
          ]
        },
        {
          "output_type": "stream",
          "name": "stderr",
          "text": [
            "Epoch 38: 100%|██████████| 1563/1563 [00:36<00:00, 42.28it/s, accuracy=0.945, loss=0.162]\n"
          ]
        },
        {
          "output_type": "stream",
          "name": "stdout",
          "text": [
            "TrainingLoss:0.16|TrainingAccuracy:94.46|EpochTime:38.00s|TestingLoss:0.34|TestingAccuracy:89.97\n",
            "\n"
          ]
        },
        {
          "output_type": "stream",
          "name": "stderr",
          "text": [
            "Epoch 39: 100%|██████████| 1563/1563 [00:36<00:00, 42.26it/s, accuracy=0.944, loss=0.161]\n"
          ]
        },
        {
          "output_type": "stream",
          "name": "stdout",
          "text": [
            "TrainingLoss:0.16|TrainingAccuracy:94.40|EpochTime:38.00s|TestingLoss:0.37|TestingAccuracy:88.66\n",
            "\n"
          ]
        },
        {
          "output_type": "stream",
          "name": "stderr",
          "text": [
            "Epoch 40: 100%|██████████| 1563/1563 [00:37<00:00, 42.10it/s, accuracy=0.945, loss=0.159]\n"
          ]
        },
        {
          "output_type": "stream",
          "name": "stdout",
          "text": [
            "TrainingLoss:0.16|TrainingAccuracy:94.47|EpochTime:38.00s|TestingLoss:0.36|TestingAccuracy:88.98\n",
            "\n"
          ]
        },
        {
          "output_type": "stream",
          "name": "stderr",
          "text": [
            "Epoch 41: 100%|██████████| 1563/1563 [00:37<00:00, 42.19it/s, accuracy=0.949, loss=0.148]\n"
          ]
        },
        {
          "output_type": "stream",
          "name": "stdout",
          "text": [
            "TrainingLoss:0.15|TrainingAccuracy:94.85|EpochTime:38.00s|TestingLoss:0.34|TestingAccuracy:89.66\n",
            "\n"
          ]
        },
        {
          "output_type": "stream",
          "name": "stderr",
          "text": [
            "Epoch 42: 100%|██████████| 1563/1563 [00:37<00:00, 41.94it/s, accuracy=0.95, loss=0.143]\n"
          ]
        },
        {
          "output_type": "stream",
          "name": "stdout",
          "text": [
            "TrainingLoss:0.14|TrainingAccuracy:95.03|EpochTime:38.00s|TestingLoss:0.32|TestingAccuracy:89.94\n",
            "\n"
          ]
        },
        {
          "output_type": "stream",
          "name": "stderr",
          "text": [
            "Epoch 43: 100%|██████████| 1563/1563 [00:37<00:00, 41.45it/s, accuracy=0.949, loss=0.143]\n"
          ]
        },
        {
          "output_type": "stream",
          "name": "stdout",
          "text": [
            "TrainingLoss:0.14|TrainingAccuracy:94.95|EpochTime:39.00s|TestingLoss:0.38|TestingAccuracy:88.49\n",
            "\n"
          ]
        },
        {
          "output_type": "stream",
          "name": "stderr",
          "text": [
            "Epoch 44: 100%|██████████| 1563/1563 [00:37<00:00, 41.82it/s, accuracy=0.953, loss=0.136]\n"
          ]
        },
        {
          "output_type": "stream",
          "name": "stdout",
          "text": [
            "TrainingLoss:0.14|TrainingAccuracy:95.32|EpochTime:38.00s|TestingLoss:0.37|TestingAccuracy:89.49\n",
            "\n"
          ]
        },
        {
          "output_type": "stream",
          "name": "stderr",
          "text": [
            "Epoch 45: 100%|██████████| 1563/1563 [00:37<00:00, 41.78it/s, accuracy=0.954, loss=0.133]\n"
          ]
        },
        {
          "output_type": "stream",
          "name": "stdout",
          "text": [
            "TrainingLoss:0.13|TrainingAccuracy:95.44|EpochTime:38.00s|TestingLoss:0.33|TestingAccuracy:90.11\n",
            "\n"
          ]
        },
        {
          "output_type": "stream",
          "name": "stderr",
          "text": [
            "Epoch 46: 100%|██████████| 1563/1563 [00:37<00:00, 41.76it/s, accuracy=0.954, loss=0.131]\n"
          ]
        },
        {
          "output_type": "stream",
          "name": "stdout",
          "text": [
            "TrainingLoss:0.13|TrainingAccuracy:95.43|EpochTime:38.00s|TestingLoss:0.36|TestingAccuracy:89.48\n",
            "\n"
          ]
        },
        {
          "output_type": "stream",
          "name": "stderr",
          "text": [
            "Epoch 47: 100%|██████████| 1563/1563 [00:37<00:00, 41.95it/s, accuracy=0.957, loss=0.129]\n"
          ]
        },
        {
          "output_type": "stream",
          "name": "stdout",
          "text": [
            "TrainingLoss:0.13|TrainingAccuracy:95.71|EpochTime:38.00s|TestingLoss:0.35|TestingAccuracy:89.44\n",
            "\n"
          ]
        },
        {
          "output_type": "stream",
          "name": "stderr",
          "text": [
            "Epoch 48: 100%|██████████| 1563/1563 [00:37<00:00, 41.80it/s, accuracy=0.957, loss=0.121]\n"
          ]
        },
        {
          "output_type": "stream",
          "name": "stdout",
          "text": [
            "TrainingLoss:0.12|TrainingAccuracy:95.74|EpochTime:38.00s|TestingLoss:0.37|TestingAccuracy:88.96\n",
            "\n"
          ]
        },
        {
          "output_type": "stream",
          "name": "stderr",
          "text": [
            "Epoch 49: 100%|██████████| 1563/1563 [00:37<00:00, 41.89it/s, accuracy=0.959, loss=0.118]\n"
          ]
        },
        {
          "output_type": "stream",
          "name": "stdout",
          "text": [
            "TrainingLoss:0.12|TrainingAccuracy:95.93|EpochTime:38.00s|TestingLoss:0.35|TestingAccuracy:89.79\n",
            "\n"
          ]
        },
        {
          "output_type": "stream",
          "name": "stderr",
          "text": [
            "Epoch 50: 100%|██████████| 1563/1563 [00:37<00:00, 41.65it/s, accuracy=0.961, loss=0.114]\n"
          ]
        },
        {
          "output_type": "stream",
          "name": "stdout",
          "text": [
            "TrainingLoss:0.11|TrainingAccuracy:96.06|EpochTime:38.00s|TestingLoss:0.33|TestingAccuracy:90.10\n",
            "\n"
          ]
        },
        {
          "output_type": "stream",
          "name": "stderr",
          "text": [
            "Epoch 51: 100%|██████████| 1563/1563 [00:37<00:00, 41.68it/s, accuracy=0.961, loss=0.113]\n"
          ]
        },
        {
          "output_type": "stream",
          "name": "stdout",
          "text": [
            "TrainingLoss:0.11|TrainingAccuracy:96.11|EpochTime:38.00s|TestingLoss:0.37|TestingAccuracy:89.17\n",
            "\n"
          ]
        },
        {
          "output_type": "stream",
          "name": "stderr",
          "text": [
            "Epoch 52: 100%|██████████| 1563/1563 [00:37<00:00, 42.12it/s, accuracy=0.962, loss=0.108]\n"
          ]
        },
        {
          "output_type": "stream",
          "name": "stdout",
          "text": [
            "TrainingLoss:0.11|TrainingAccuracy:96.18|EpochTime:38.00s|TestingLoss:0.36|TestingAccuracy:89.70\n",
            "\n"
          ]
        },
        {
          "output_type": "stream",
          "name": "stderr",
          "text": [
            "Epoch 53: 100%|██████████| 1563/1563 [00:36<00:00, 42.34it/s, accuracy=0.965, loss=0.104]\n"
          ]
        },
        {
          "output_type": "stream",
          "name": "stdout",
          "text": [
            "TrainingLoss:0.10|TrainingAccuracy:96.47|EpochTime:38.00s|TestingLoss:0.34|TestingAccuracy:89.97\n",
            "\n"
          ]
        },
        {
          "output_type": "stream",
          "name": "stderr",
          "text": [
            "Epoch 54: 100%|██████████| 1563/1563 [00:37<00:00, 42.22it/s, accuracy=0.965, loss=0.103]\n"
          ]
        },
        {
          "output_type": "stream",
          "name": "stdout",
          "text": [
            "TrainingLoss:0.10|TrainingAccuracy:96.52|EpochTime:38.00s|TestingLoss:0.33|TestingAccuracy:90.64\n",
            "\n"
          ]
        },
        {
          "output_type": "stream",
          "name": "stderr",
          "text": [
            "Epoch 55: 100%|██████████| 1563/1563 [00:37<00:00, 42.18it/s, accuracy=0.965, loss=0.101]\n"
          ]
        },
        {
          "output_type": "stream",
          "name": "stdout",
          "text": [
            "TrainingLoss:0.10|TrainingAccuracy:96.55|EpochTime:38.00s|TestingLoss:0.32|TestingAccuracy:90.75\n",
            "\n"
          ]
        },
        {
          "output_type": "stream",
          "name": "stderr",
          "text": [
            "Epoch 56: 100%|██████████| 1563/1563 [00:37<00:00, 41.85it/s, accuracy=0.965, loss=0.099]\n"
          ]
        },
        {
          "output_type": "stream",
          "name": "stdout",
          "text": [
            "TrainingLoss:0.10|TrainingAccuracy:96.54|EpochTime:38.00s|TestingLoss:0.35|TestingAccuracy:90.44\n",
            "\n"
          ]
        },
        {
          "output_type": "stream",
          "name": "stderr",
          "text": [
            "Epoch 57: 100%|██████████| 1563/1563 [00:36<00:00, 42.32it/s, accuracy=0.966, loss=0.0981]\n"
          ]
        },
        {
          "output_type": "stream",
          "name": "stdout",
          "text": [
            "TrainingLoss:0.10|TrainingAccuracy:96.59|EpochTime:38.00s|TestingLoss:0.34|TestingAccuracy:90.63\n",
            "\n"
          ]
        },
        {
          "output_type": "stream",
          "name": "stderr",
          "text": [
            "Epoch 58: 100%|██████████| 1563/1563 [00:36<00:00, 42.33it/s, accuracy=0.968, loss=0.094]\n"
          ]
        },
        {
          "output_type": "stream",
          "name": "stdout",
          "text": [
            "TrainingLoss:0.09|TrainingAccuracy:96.77|EpochTime:38.00s|TestingLoss:0.35|TestingAccuracy:90.38\n",
            "\n"
          ]
        },
        {
          "output_type": "stream",
          "name": "stderr",
          "text": [
            "Epoch 59: 100%|██████████| 1563/1563 [00:36<00:00, 42.29it/s, accuracy=0.969, loss=0.0922]\n"
          ]
        },
        {
          "output_type": "stream",
          "name": "stdout",
          "text": [
            "TrainingLoss:0.09|TrainingAccuracy:96.89|EpochTime:38.00s|TestingLoss:0.35|TestingAccuracy:90.37\n",
            "\n"
          ]
        },
        {
          "output_type": "stream",
          "name": "stderr",
          "text": [
            "Epoch 60: 100%|██████████| 1563/1563 [00:36<00:00, 42.32it/s, accuracy=0.969, loss=0.0903]\n"
          ]
        },
        {
          "output_type": "stream",
          "name": "stdout",
          "text": [
            "TrainingLoss:0.09|TrainingAccuracy:96.92|EpochTime:38.00s|TestingLoss:0.35|TestingAccuracy:90.34\n",
            "\n"
          ]
        },
        {
          "output_type": "display_data",
          "data": {
            "text/plain": [
              "<Figure size 432x288 with 1 Axes>"
            ],
            "image/png": "[encoded data removed]"
          },
          "metadata": {
            "needs_background": "light"
          }
        },
        {
          "output_type": "display_data",
          "data": {
            "text/plain": [
              "<Figure size 432x288 with 1 Axes>"
            ],
            "image/png": "[encoded data removed]"
          },
          "metadata": {
            "needs_background": "light"
          }
        }
      ]
    }
  ]
}