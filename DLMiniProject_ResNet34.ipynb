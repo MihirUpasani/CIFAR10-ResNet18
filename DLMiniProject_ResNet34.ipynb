{
  "nbformat": 4,
  "nbformat_minor": 0,
  "metadata": {
    "colab": {
      "provenance": [],
      "machine_shape": "hm"
    },
    "kernelspec": {
      "name": "python3",
      "display_name": "Python 3"
    },
    "language_info": {
      "name": "python"
    },
    "accelerator": "TPU",
    "gpuClass": "standard"
  },
  "cells": [
    {
      "cell_type": "code",
      "source": [
        "\"\"\"\n",
        "Authors:\n",
        "Mihir Upasani (mu2047@nyu.edu)\n",
        "Shivani Gawande\n",
        "Fabiha Khalid\n",
        "\"\"\"\n",
        "import time\n",
        "\n",
        "import numpy as np\n",
        "import torch\n",
        "from matplotlib import pyplot as plt\n",
        "from tqdm import tqdm\n",
        "\n",
        "\n",
        "class Basics():\n",
        "\n",
        "    def __init__(self, model, optimizer, schedule, criterion, training_dl, testing_dl, modelName):\n",
        "        self.model = model\n",
        "        self.optimizer = optimizer\n",
        "        self.schedule = schedule\n",
        "        self.criterion = criterion\n",
        "        self.device = torch.device(\n",
        "            'cuda') if torch.cuda.is_available() else torch.device('cpu')\n",
        "        self.trainingHistory = {\n",
        "            'accuracy': [],\n",
        "            'loss': [],\n",
        "        }\n",
        "        self.testingHistory = {\n",
        "            'accuracy': [],\n",
        "            'loss': [],\n",
        "        }\n",
        "        self.validationHistory = {\n",
        "            'accuracy': [],\n",
        "            'loss': [],\n",
        "        }\n",
        "        self.trainingDataLoader = training_dl\n",
        "        self.testingDataLoader = testing_dl\n",
        "        self.modelName = modelName\n",
        "\n",
        "    def __calculateAccuracy(self, y_pred, y):\n",
        "        top_pred = y_pred.argmax(1, keepdim=True)\n",
        "        correct = top_pred.eq(y.view_as(top_pred)).sum()\n",
        "        acc = correct.float() / y.shape[0]\n",
        "        return acc\n",
        "\n",
        "    def __getTime(self, start_time, end_time):\n",
        "        elapsed_time = end_time - start_time\n",
        "        elapsed_mins = int(elapsed_time / 60)\n",
        "        elapsed_secs = int(elapsed_time - (elapsed_mins * 60))\n",
        "        return elapsed_mins, elapsed_secs\n",
        "\n",
        "    def _countParameters(self):\n",
        "        total_params = 0\n",
        "        for name, parameter in self.model.named_parameters():\n",
        "            params = parameter.numel()\n",
        "            total_params += params\n",
        "        return total_params\n",
        "\n",
        "    def _trainModel(self, epoch):\n",
        "        \"\"\"\n",
        "        Abstraction layer for training steps\n",
        "        1. Make predictions\n",
        "        2. Calculate loss, accuracy\n",
        "        3. Propogate loss backwards and update weights\n",
        "        4. Record statistics, i.e loss, accuracy and time per epoch\n",
        "        \"\"\"\n",
        "\n",
        "        # To indicate model in training phase\n",
        "        # Will also turn on dropout in case we use it\n",
        "        self.model.train()\n",
        "\n",
        "        epoch_loss = 0\n",
        "        epoch_acc = 0\n",
        "\n",
        "        with tqdm(self.trainingDataLoader) as tqdmObject:\n",
        "\n",
        "            startTime = time.time()\n",
        "            for (x, y) in tqdmObject:\n",
        "                tqdmObject.set_description(desc=f\"Epoch {epoch+1}\")\n",
        "                x = x.to(self.device)\n",
        "                y = y.to(self.device)\n",
        "\n",
        "                self.optimizer.zero_grad()\n",
        "\n",
        "                # Step 1\n",
        "                y_pred = self.model(x)\n",
        "\n",
        "                # Step 2\n",
        "                loss = self.criterion(y_pred, y)\n",
        "                acc = self.__calculateAccuracy(y_pred, y)\n",
        "\n",
        "                # Step 3\n",
        "                loss.backward()\n",
        "                self.optimizer.step()\n",
        "                self.optimizer.zero_grad()\n",
        "\n",
        "                epoch_loss += loss.item()\n",
        "                epoch_acc += acc.item()\n",
        "                tqdmObject.set_postfix(accuracy=epoch_acc/len(self.trainingDataLoader),\n",
        "                                       loss=epoch_loss/len(self.trainingDataLoader))\n",
        "            # if self.schedule:\n",
        "            #     self.schedule.step()\n",
        "            endTime = time.time()\n",
        "\n",
        "        trainingMinutes, trainingSeconds = self.__getTime(startTime, endTime)\n",
        "        trainingSeconds += 60 * trainingMinutes\n",
        "        return epoch_acc/len(self.trainingDataLoader), epoch_loss/len(self.trainingDataLoader), trainingSeconds\n",
        "\n",
        "    def _evaluateModel(self):\n",
        "        \"\"\"\n",
        "        Abstraction layer for validation steps\n",
        "        1. Make predictions\n",
        "        2. Calculate loss, accuracy\n",
        "        3. Record statistics, i.e loss, accuracy and time per epoch\n",
        "        \"\"\"\n",
        "\n",
        "        # To indicate model in training phase\n",
        "        # Will also turn on dropout in case we use it\n",
        "        self.model.eval()\n",
        "\n",
        "        epoch_loss = 0\n",
        "        epoch_acc = 0\n",
        "\n",
        "        with torch.no_grad():\n",
        "            for (x, y) in self.testingDataLoader:\n",
        "\n",
        "                x = x.to(self.device)\n",
        "                y = y.to(self.device)\n",
        "\n",
        "                # Step 1\n",
        "                y_pred = self.model(x)\n",
        "\n",
        "                # Step 2\n",
        "                loss = self.criterion(y_pred, y)\n",
        "                acc = self.__calculateAccuracy(y_pred, y)\n",
        "\n",
        "                epoch_loss += loss.item()\n",
        "                epoch_acc += acc.item()\n",
        "\n",
        "        return epoch_acc/len(self.testingDataLoader), epoch_loss/len(self.testingDataLoader)\n",
        "\n",
        "    def trainEpochs(self, epochs=10, plot_results=True):\n",
        "        \"\"\"\n",
        "        Will build more control into it, for now keeping it limited to \n",
        "\n",
        "        epochs: how many epochs to train for\n",
        "        validate: do we even have a validation dataset\n",
        "        plot_results: whether to plot training, testing and validation losses, accuracies \n",
        "        \"\"\"\n",
        "\n",
        "        for epoch in range(epochs):\n",
        "            startTime = time.time()\n",
        "            trainingAccuracy, trainingLoss, trainingSeconds = self._trainModel(\n",
        "                epoch)\n",
        "            testingAccuracy, testingLoss = self._evaluateModel()\n",
        "            endTime = time.time()\n",
        "            self.schedule.step(trainingAccuracy)\n",
        "            epochMinutes, epochSeconds = self.__getTime(startTime, endTime)\n",
        "            epochSeconds += epochMinutes*60\n",
        "            print(\"TrainingLoss:%.2f|TrainingAccuracy:%.2f|EpochTime:%.2fs|TestingLoss:%.2f|TestingAccuracy:%.2f\\n\" % (\n",
        "                trainingLoss, trainingAccuracy*100, epochSeconds, testingLoss, testingAccuracy*100))\n",
        "\n",
        "            self.trainingHistory[\"loss\"].append(trainingLoss)\n",
        "            self.trainingHistory[\"accuracy\"].append(trainingAccuracy)\n",
        "\n",
        "            self.testingHistory[\"loss\"].append(testingLoss)\n",
        "            self.testingHistory[\"accuracy\"].append(testingAccuracy)\n",
        "\n",
        "        if plot_results:\n",
        "\n",
        "            X = np.arange(1, epochs+1)\n",
        "\n",
        "            plt.figure(1)\n",
        "            plt.plot(X, self.trainingHistory['loss'], label='train_loss')\n",
        "            plt.plot(X, self.testingHistory['loss'], label='test_loss')\n",
        "            plt.legend()\n",
        "            plt.savefig(\"./outputs/\" + self.modelName + \"LossVsEpochs.jpg\")\n",
        "\n",
        "            plt.figure(2)\n",
        "            plt.plot(\n",
        "                X, self.trainingHistory['accuracy'], label='train_acc')\n",
        "            plt.plot(\n",
        "                X, self.testingHistory['accuracy'], label='test_acc')\n",
        "            plt.legend()\n",
        "            plt.savefig(\"./outputs/\" + self.modelName + \"AccVsEpochs.jpg\")"
      ],
      "metadata": {
        "id": "4xfLQHaeQ76o"
      },
      "execution_count": 4,
      "outputs": []
    },
    {
      "cell_type": "code",
      "source": [
        "'''ResNet in PyTorch.\n",
        "For Pre-activation ResNet, see 'preact_resnet.py'.\n",
        "Reference:\n",
        "[1] Kaiming He, Xiangyu Zhang, Shaoqing Ren, Jian Sun\n",
        "    Deep Residual Learning for Image Recognition. arXiv:1512.03385\n",
        "'''\n",
        "import torch\n",
        "import torch.nn as nn\n",
        "import torch.nn.functional as F\n",
        "from torchsummary import summary\n",
        "\n",
        "\n",
        "class BasicBlock(nn.Module):\n",
        "    expansion = 1\n",
        "\n",
        "    def __init__(self, in_planes, planes, stride=1, kernel_size=3):\n",
        "        super(BasicBlock, self).__init__()\n",
        "        self.conv1 = nn.Conv2d(\n",
        "            in_planes, planes, kernel_size=kernel_size, stride=stride, padding=1, bias=False)\n",
        "        self.bn1 = nn.BatchNorm2d(planes)\n",
        "        self.conv2 = nn.Conv2d(planes, planes, kernel_size=kernel_size,\n",
        "                               stride=1, padding=1, bias=False)\n",
        "        self.bn2 = nn.BatchNorm2d(planes)\n",
        "\n",
        "        self.shortcut = nn.Sequential()\n",
        "        if stride != 1 or in_planes != self.expansion*planes:\n",
        "            self.shortcut = nn.Sequential(\n",
        "                nn.Conv2d(in_planes, self.expansion*planes,\n",
        "                          kernel_size=1, stride=stride, bias=False),\n",
        "                nn.BatchNorm2d(self.expansion*planes),\n",
        "            )\n",
        "\n",
        "    def forward(self, x):\n",
        "        out = F.relu(self.bn1(self.conv1(x)))\n",
        "        out = self.bn2(self.conv2(out))\n",
        "        out += self.shortcut(x)\n",
        "        out = F.relu(out)\n",
        "        return out\n",
        "\n",
        "\n",
        "class Bottleneck(nn.Module):\n",
        "    expansion = 4\n",
        "\n",
        "    def __init__(self, in_planes, planes, stride=1):\n",
        "        super(Bottleneck, self).__init__()\n",
        "        self.conv1 = nn.Conv2d(in_planes, planes, kernel_size=1, bias=False)\n",
        "        self.bn1 = nn.BatchNorm2d(planes)\n",
        "        self.conv2 = nn.Conv2d(planes, planes, kernel_size=3,\n",
        "                               stride=stride, padding=1, bias=False)\n",
        "        self.bn2 = nn.BatchNorm2d(planes)\n",
        "        self.conv3 = nn.Conv2d(planes, self.expansion *\n",
        "                               planes, kernel_size=1, bias=False)\n",
        "        self.bn3 = nn.BatchNorm2d(self.expansion*planes)\n",
        "\n",
        "        self.shortcut = nn.Sequential()\n",
        "        if stride != 1 or in_planes != self.expansion*planes:\n",
        "            self.shortcut = nn.Sequential(\n",
        "                nn.Conv2d(in_planes, self.expansion*planes,\n",
        "                          kernel_size=1, stride=stride, bias=False),\n",
        "                nn.BatchNorm2d(self.expansion*planes)\n",
        "            )\n",
        "\n",
        "    def forward(self, x):\n",
        "        out = F.relu(self.bn1(self.conv1(x)))\n",
        "        out = F.relu(self.bn2(self.conv2(out)))\n",
        "        out = self.bn3(self.conv3(out))\n",
        "        out += self.shortcut(x)\n",
        "        out = F.relu(out)\n",
        "        return out\n",
        "\n",
        "\n",
        "class ResNet(nn.Module):\n",
        "    def __init__(self, block, num_blocks, num_classes=10):\n",
        "        super(ResNet, self).__init__()\n",
        "        self.in_planes = 64\n",
        "\n",
        "        self.conv1 = nn.Conv2d(3, 64, kernel_size=3,\n",
        "                               stride=1, padding=1, bias=False)\n",
        "        self.bn1 = nn.BatchNorm2d(64)\n",
        "        self.layer1 = self._make_layer(block, 64, num_blocks[0], stride=1)\n",
        "        self.layer2 = self._make_layer(block, 128, num_blocks[1], stride=2)\n",
        "        self.layer3 = self._make_layer(block, 256, num_blocks[2], stride=2)\n",
        "        self.layer4 = self._make_layer(block, 512, num_blocks[3], stride=2)\n",
        "        self.linear1 = nn.Linear(512*block.expansion, num_classes)\n",
        "\n",
        "    def _make_layer(self, block, planes, num_blocks, stride, kernel_size=3):\n",
        "        strides = [stride] + [1]*(num_blocks-1)\n",
        "        layers = []\n",
        "        for stride in strides:\n",
        "            layers.append(block(self.in_planes, planes, stride, kernel_size))\n",
        "            self.in_planes = planes * block.expansion\n",
        "        return nn.Sequential(*layers)\n",
        "\n",
        "    def forward(self, x):\n",
        "        out = F.relu(self.bn1(self.conv1(x)))\n",
        "        out = self.layer1(out)\n",
        "        out = self.layer2(out)\n",
        "        out = self.layer3(out)\n",
        "        out = self.layer4(out)\n",
        "        out = F.avg_pool2d(out, 4)\n",
        "        out = out.view(out.size(0), -1)\n",
        "        out = self.linear1(out)\n",
        "        return out\n",
        "\n",
        "\n",
        "def ResNet18():\n",
        "    return ResNet(BasicBlock, [2, 2, 2, 2])\n",
        "\n",
        "\n",
        "def ResNet18_mod():\n",
        "    return ResNet(BasicBlock, [2, 1, 1, 1])\n",
        "\n",
        "\n",
        "def ResNet34():\n",
        "    return ResNet(BasicBlock, [3, 4, 6, 3])\n",
        "\n",
        "\n",
        "def ResNet50():\n",
        "    return ResNet(Bottleneck, [3, 4, 6, 3])\n",
        "\n",
        "\n",
        "def ResNet101():\n",
        "    return ResNet(Bottleneck, [3, 4, 23, 3])\n",
        "\n",
        "\n",
        "def ResNet152():\n",
        "    return ResNet(Bottleneck, [3, 8, 36, 3])\n",
        "\n",
        "\n",
        "def test():\n",
        "    device = torch.device(\"cuda\" if torch.cuda.is_available()\n",
        "                          else \"cpu\")  # PyTorch v0.4.0\n",
        "    net = ResNet34().to(device)\n",
        "    summary(net, (3, 28, 28))\n",
        "    # y = net(torch.randn(1, 3, 32, 32))\n",
        "    # print(y.size())"
      ],
      "metadata": {
        "id": "3BOgx38KQeml"
      },
      "execution_count": 5,
      "outputs": []
    },
    {
      "cell_type": "code",
      "source": [
        "from math import sqrt\n",
        "\n",
        "import torch\n",
        "import torch.nn as nn\n",
        "import torch.nn.functional as F\n",
        "import torch.nn.init as init\n",
        "import torch.optim as optim\n",
        "import torch.utils.data as data\n",
        "import torchvision.datasets as datasets\n",
        "import torchvision.transforms as transforms\n",
        "from torchsummary import summary\n",
        "\n",
        "\n",
        "# Defining constants, based on assignment\n",
        "OUTPUT_CLASSES = 10\n",
        "MEANS = (0.4914, 0.4822, 0.4465)\n",
        "STD_DEV = (0.2023, 0.1994, 0.2010)\n",
        "IO_PROCESSES = 2\n",
        "FLIP_PROBABILITY = 0.5\n",
        "TRAINING_BATCH_SIZE = 32\n",
        "TESTING_BATCH_SIZE = 256\n",
        "EPOCHS = 50\n",
        "LEARNING_RATE = 0.01\n",
        "MOMENTUM = 0.9\n",
        "WEIGHT_DECAY = 5e-4\n",
        "ROOT = \"./.data\"\n",
        "MAX_PARAMS = 5000000\n",
        "\n",
        "# Lets start by defning transforms.\n",
        "# I'm going to assume that transforms are a part of the learning process\n",
        "# This implies that no transformations will be applied to the testing data\n",
        "# Except the normalization step obviously\n",
        "training_transformations = transforms.Compose(\n",
        "    [\n",
        "        transforms.RandomCrop(\n",
        "            size=(32, 32), padding=4),\n",
        "        transforms.RandomHorizontalFlip(\n",
        "            FLIP_PROBABILITY),\n",
        "        transforms.ToTensor(),\n",
        "        transforms.Normalize(MEANS, STD_DEV)\n",
        "    ]\n",
        ")\n",
        "\n",
        "testing_transformations = transforms.Compose(\n",
        "    [\n",
        "        transforms.ToTensor(),\n",
        "        transforms.Normalize(MEANS, STD_DEV)\n",
        "    ]\n",
        ")\n",
        "\n",
        "\n",
        "def downloadData(ROOT):\n",
        "    # Now we load training amd testing data\n",
        "    # Note, this is different to the DataLoader step. That shall come after this\n",
        "    training_data = datasets.CIFAR10(\n",
        "        ROOT,\n",
        "        train=True,\n",
        "        download=True,\n",
        "        transform=training_transformations\n",
        "    )\n",
        "\n",
        "    testing_data = datasets.CIFAR10(\n",
        "        ROOT,\n",
        "        train=False,\n",
        "        download=True,\n",
        "        transform=testing_transformations\n",
        "    )\n",
        "\n",
        "    return training_data, testing_data\n",
        "\n",
        "\n",
        "if __name__ == \"__main__\":\n",
        "\n",
        "    trainingData, testingData = downloadData(ROOT)\n",
        "\n",
        "    trainingDataLoader = torch.utils.data.DataLoader(\n",
        "        dataset=trainingData,\n",
        "        batch_size=TRAINING_BATCH_SIZE,\n",
        "        shuffle=True\n",
        "    )\n",
        "    testingDataLoader = torch.utils.data.DataLoader(\n",
        "        dataset=testingData,\n",
        "        batch_size=TESTING_BATCH_SIZE,\n",
        "        shuffle=True\n",
        "    )\n",
        "    device = torch.device(\"cuda\" if torch.cuda.is_available()\n",
        "                          else \"cpu\")\n",
        "\n",
        "    model = ResNet18_mod().to(device)\n",
        "\n",
        "    modelParams = model.parameters()\n",
        "    setParams = {\n",
        "        \"params\": modelParams,\n",
        "        \"lr\": LEARNING_RATE,\n",
        "        \"momentum\": MOMENTUM,\n",
        "        \"weight_decay\": WEIGHT_DECAY,\n",
        "        \"nesterov\": True,\n",
        "    }\n",
        "\n",
        "    optimizer = optim.SGD(**setParams)\n",
        "    # optimizer = optim.Adam(**setParams)\n",
        "    lossFunction = nn.CrossEntropyLoss()\n",
        "    # sched = torch.optim.lr_scheduler.OneCycleLR(optimizer, LEARNING_RATE, epochs=EPOCHS,\n",
        "    #                                             steps_per_epoch=len(trainingDataLoader))\n",
        "    sched = torch.optim.lr_scheduler.ReduceLROnPlateau(\n",
        "        optimizer, mode='max', factor=0.5, patience=0)\n",
        "\n",
        "    trainingAbstraction = Basics(\n",
        "        model, optimizer, sched, lossFunction, trainingDataLoader, testingDataLoader, modelName=\"Attempt16\")\n",
        "\n",
        "    parameters = trainingAbstraction._countParameters()\n",
        "    print(f\"Model has {parameters} parameters\")\n",
        "    assert parameters <= MAX_PARAMS\n",
        "    print(f\"You have {MAX_PARAMS-parameters} left!\")\n",
        "    summary(model, (3, 32, 32))\n",
        "\n",
        "    trainingAbstraction.trainEpochs(EPOCHS)\n"
      ],
      "metadata": {
        "colab": {
          "base_uri": "https://localhost:8080/",
          "height": 1000
        },
        "id": "zAzZl6hHRSzv",
        "outputId": "281d833d-b6e6-4f1b-bfcc-4e785f96a639"
      },
      "execution_count": 6,
      "outputs": [
        {
          "metadata": {
            "tags": null
          },
          "name": "stdout",
          "output_type": "stream",
          "text": [
            "Files already downloaded and verified\n",
            "Files already downloaded and verified\n",
            "Model has 4977226 parameters\n",
            "You have 22774 left!\n",
            "----------------------------------------------------------------\n",
            "        Layer (type)               Output Shape         Param #\n",
            "================================================================\n",
            "            Conv2d-1           [-1, 64, 32, 32]           1,728\n",
            "       BatchNorm2d-2           [-1, 64, 32, 32]             128\n",
            "            Conv2d-3           [-1, 64, 32, 32]          36,864\n",
            "       BatchNorm2d-4           [-1, 64, 32, 32]             128\n",
            "            Conv2d-5           [-1, 64, 32, 32]          36,864\n",
            "       BatchNorm2d-6           [-1, 64, 32, 32]             128\n",
            "        BasicBlock-7           [-1, 64, 32, 32]               0\n",
            "            Conv2d-8           [-1, 64, 32, 32]          36,864\n",
            "       BatchNorm2d-9           [-1, 64, 32, 32]             128\n",
            "           Conv2d-10           [-1, 64, 32, 32]          36,864\n",
            "      BatchNorm2d-11           [-1, 64, 32, 32]             128\n",
            "       BasicBlock-12           [-1, 64, 32, 32]               0\n",
            "           Conv2d-13          [-1, 128, 16, 16]          73,728\n",
            "      BatchNorm2d-14          [-1, 128, 16, 16]             256\n",
            "           Conv2d-15          [-1, 128, 16, 16]         147,456\n",
            "      BatchNorm2d-16          [-1, 128, 16, 16]             256\n",
            "           Conv2d-17          [-1, 128, 16, 16]           8,192\n",
            "      BatchNorm2d-18          [-1, 128, 16, 16]             256\n",
            "       BasicBlock-19          [-1, 128, 16, 16]               0\n",
            "           Conv2d-20            [-1, 256, 8, 8]         294,912\n",
            "      BatchNorm2d-21            [-1, 256, 8, 8]             512\n",
            "           Conv2d-22            [-1, 256, 8, 8]         589,824\n",
            "      BatchNorm2d-23            [-1, 256, 8, 8]             512\n",
            "           Conv2d-24            [-1, 256, 8, 8]          32,768\n",
            "      BatchNorm2d-25            [-1, 256, 8, 8]             512\n",
            "       BasicBlock-26            [-1, 256, 8, 8]               0\n",
            "           Conv2d-27            [-1, 512, 4, 4]       1,179,648\n",
            "      BatchNorm2d-28            [-1, 512, 4, 4]           1,024\n",
            "           Conv2d-29            [-1, 512, 4, 4]       2,359,296\n",
            "      BatchNorm2d-30            [-1, 512, 4, 4]           1,024\n",
            "           Conv2d-31            [-1, 512, 4, 4]         131,072\n",
            "      BatchNorm2d-32            [-1, 512, 4, 4]           1,024\n",
            "       BasicBlock-33            [-1, 512, 4, 4]               0\n",
            "           Linear-34                   [-1, 10]           5,130\n",
            "================================================================\n",
            "Total params: 4,977,226\n",
            "Trainable params: 4,977,226\n",
            "Non-trainable params: 0\n",
            "----------------------------------------------------------------\n",
            "Input size (MB): 0.01\n",
            "Forward/backward pass size (MB): 9.06\n",
            "Params size (MB): 18.99\n",
            "Estimated Total Size (MB): 28.06\n",
            "----------------------------------------------------------------\n"
          ]
        },
        {
          "metadata": {
            "tags": null
          },
          "name": "stderr",
          "output_type": "stream",
          "text": [
            "Epoch 1: 100%|██████████| 1563/1563 [06:11<00:00,  4.21it/s, accuracy=0.5, loss=1.37]\n"
          ]
        },
        {
          "metadata": {
            "tags": null
          },
          "name": "stdout",
          "output_type": "stream",
          "text": [
            "TrainingLoss:1.37|TrainingAccuracy:49.97|EpochTime:384.00s|TestingLoss:1.00|TestingAccuracy:64.38\n",
            "\n"
          ]
        },
        {
          "metadata": {
            "tags": null
          },
          "name": "stderr",
          "output_type": "stream",
          "text": [
            "Epoch 2: 100%|██████████| 1563/1563 [04:46<00:00,  5.46it/s, accuracy=0.673, loss=0.921]\n"
          ]
        },
        {
          "metadata": {
            "tags": null
          },
          "name": "stdout",
          "output_type": "stream",
          "text": [
            "TrainingLoss:0.92|TrainingAccuracy:67.29|EpochTime:299.00s|TestingLoss:0.95|TestingAccuracy:69.17\n",
            "\n"
          ]
        },
        {
          "metadata": {
            "tags": null
          },
          "name": "stderr",
          "output_type": "stream",
          "text": [
            "Epoch 3: 100%|██████████| 1563/1563 [04:44<00:00,  5.49it/s, accuracy=0.743, loss=0.733]\n"
          ]
        },
        {
          "metadata": {
            "tags": null
          },
          "name": "stdout",
          "output_type": "stream",
          "text": [
            "TrainingLoss:0.73|TrainingAccuracy:74.30|EpochTime:298.00s|TestingLoss:0.69|TestingAccuracy:77.38\n",
            "\n"
          ]
        },
        {
          "metadata": {
            "tags": null
          },
          "name": "stderr",
          "output_type": "stream",
          "text": [
            "Epoch 4: 100%|██████████| 1563/1563 [04:48<00:00,  5.42it/s, accuracy=0.785, loss=0.621]\n"
          ]
        },
        {
          "metadata": {
            "tags": null
          },
          "name": "stdout",
          "output_type": "stream",
          "text": [
            "TrainingLoss:0.62|TrainingAccuracy:78.50|EpochTime:302.00s|TestingLoss:0.56|TestingAccuracy:80.47\n",
            "\n"
          ]
        },
        {
          "metadata": {
            "tags": null
          },
          "name": "stderr",
          "output_type": "stream",
          "text": [
            "Epoch 5: 100%|██████████| 1563/1563 [04:38<00:00,  5.60it/s, accuracy=0.807, loss=0.557]\n"
          ]
        },
        {
          "metadata": {
            "tags": null
          },
          "name": "stdout",
          "output_type": "stream",
          "text": [
            "TrainingLoss:0.56|TrainingAccuracy:80.73|EpochTime:292.00s|TestingLoss:0.51|TestingAccuracy:82.89\n",
            "\n"
          ]
        },
        {
          "metadata": {
            "tags": null
          },
          "name": "stderr",
          "output_type": "stream",
          "text": [
            "Epoch 6: 100%|██████████| 1563/1563 [04:47<00:00,  5.43it/s, accuracy=0.827, loss=0.502]\n"
          ]
        },
        {
          "metadata": {
            "tags": null
          },
          "name": "stdout",
          "output_type": "stream",
          "text": [
            "TrainingLoss:0.50|TrainingAccuracy:82.71|EpochTime:300.00s|TestingLoss:0.55|TestingAccuracy:80.97\n",
            "\n"
          ]
        },
        {
          "metadata": {
            "tags": null
          },
          "name": "stderr",
          "output_type": "stream",
          "text": [
            "Epoch 7: 100%|██████████| 1563/1563 [04:27<00:00,  5.85it/s, accuracy=0.841, loss=0.462]\n"
          ]
        },
        {
          "metadata": {
            "tags": null
          },
          "name": "stdout",
          "output_type": "stream",
          "text": [
            "TrainingLoss:0.46|TrainingAccuracy:84.13|EpochTime:279.00s|TestingLoss:0.49|TestingAccuracy:82.71\n",
            "\n"
          ]
        },
        {
          "metadata": {
            "tags": null
          },
          "name": "stderr",
          "output_type": "stream",
          "text": [
            "Epoch 8: 100%|██████████| 1563/1563 [04:28<00:00,  5.82it/s, accuracy=0.852, loss=0.429]\n"
          ]
        },
        {
          "metadata": {
            "tags": null
          },
          "name": "stdout",
          "output_type": "stream",
          "text": [
            "TrainingLoss:0.43|TrainingAccuracy:85.18|EpochTime:281.00s|TestingLoss:0.44|TestingAccuracy:84.85\n",
            "\n"
          ]
        },
        {
          "metadata": {
            "tags": null
          },
          "name": "stderr",
          "output_type": "stream",
          "text": [
            "Epoch 9: 100%|██████████| 1563/1563 [04:28<00:00,  5.81it/s, accuracy=0.863, loss=0.403]\n"
          ]
        },
        {
          "metadata": {
            "tags": null
          },
          "name": "stdout",
          "output_type": "stream",
          "text": [
            "TrainingLoss:0.40|TrainingAccuracy:86.26|EpochTime:281.00s|TestingLoss:0.47|TestingAccuracy:83.75\n",
            "\n"
          ]
        },
        {
          "metadata": {
            "tags": null
          },
          "name": "stderr",
          "output_type": "stream",
          "text": [
            "Epoch 10: 100%|██████████| 1563/1563 [04:32<00:00,  5.73it/s, accuracy=0.87, loss=0.38]\n"
          ]
        },
        {
          "metadata": {
            "tags": null
          },
          "name": "stdout",
          "output_type": "stream",
          "text": [
            "TrainingLoss:0.38|TrainingAccuracy:86.99|EpochTime:285.00s|TestingLoss:0.47|TestingAccuracy:84.35\n",
            "\n"
          ]
        },
        {
          "metadata": {
            "tags": null
          },
          "name": "stderr",
          "output_type": "stream",
          "text": [
            "Epoch 11: 100%|██████████| 1563/1563 [04:33<00:00,  5.72it/s, accuracy=0.877, loss=0.361]\n"
          ]
        },
        {
          "metadata": {
            "tags": null
          },
          "name": "stdout",
          "output_type": "stream",
          "text": [
            "TrainingLoss:0.36|TrainingAccuracy:87.70|EpochTime:286.00s|TestingLoss:0.42|TestingAccuracy:85.95\n",
            "\n"
          ]
        },
        {
          "metadata": {
            "tags": null
          },
          "name": "stderr",
          "output_type": "stream",
          "text": [
            "Epoch 12: 100%|██████████| 1563/1563 [04:36<00:00,  5.65it/s, accuracy=0.882, loss=0.343]\n"
          ]
        },
        {
          "metadata": {
            "tags": null
          },
          "name": "stdout",
          "output_type": "stream",
          "text": [
            "TrainingLoss:0.34|TrainingAccuracy:88.19|EpochTime:289.00s|TestingLoss:0.40|TestingAccuracy:87.01\n",
            "\n"
          ]
        },
        {
          "metadata": {
            "tags": null
          },
          "name": "stderr",
          "output_type": "stream",
          "text": [
            "Epoch 13: 100%|██████████| 1563/1563 [04:32<00:00,  5.73it/s, accuracy=0.888, loss=0.329]\n"
          ]
        },
        {
          "metadata": {
            "tags": null
          },
          "name": "stdout",
          "output_type": "stream",
          "text": [
            "TrainingLoss:0.33|TrainingAccuracy:88.80|EpochTime:285.00s|TestingLoss:0.45|TestingAccuracy:85.28\n",
            "\n"
          ]
        },
        {
          "metadata": {
            "tags": null
          },
          "name": "stderr",
          "output_type": "stream",
          "text": [
            "Epoch 14: 100%|██████████| 1563/1563 [04:34<00:00,  5.68it/s, accuracy=0.889, loss=0.319]\n"
          ]
        },
        {
          "metadata": {
            "tags": null
          },
          "name": "stdout",
          "output_type": "stream",
          "text": [
            "TrainingLoss:0.32|TrainingAccuracy:88.94|EpochTime:287.00s|TestingLoss:0.38|TestingAccuracy:87.49\n",
            "\n"
          ]
        },
        {
          "metadata": {
            "tags": null
          },
          "name": "stderr",
          "output_type": "stream",
          "text": [
            "Epoch 15: 100%|██████████| 1563/1563 [04:35<00:00,  5.68it/s, accuracy=0.897, loss=0.304]\n"
          ]
        },
        {
          "metadata": {
            "tags": null
          },
          "name": "stdout",
          "output_type": "stream",
          "text": [
            "TrainingLoss:0.30|TrainingAccuracy:89.65|EpochTime:288.00s|TestingLoss:0.39|TestingAccuracy:86.54\n",
            "\n"
          ]
        },
        {
          "metadata": {
            "tags": null
          },
          "name": "stderr",
          "output_type": "stream",
          "text": [
            "Epoch 16: 100%|██████████| 1563/1563 [04:32<00:00,  5.73it/s, accuracy=0.897, loss=0.297]\n"
          ]
        },
        {
          "metadata": {
            "tags": null
          },
          "name": "stdout",
          "output_type": "stream",
          "text": [
            "TrainingLoss:0.30|TrainingAccuracy:89.71|EpochTime:285.00s|TestingLoss:0.40|TestingAccuracy:86.89\n",
            "\n"
          ]
        },
        {
          "metadata": {
            "tags": null
          },
          "name": "stderr",
          "output_type": "stream",
          "text": [
            "Epoch 17: 100%|██████████| 1563/1563 [04:34<00:00,  5.70it/s, accuracy=0.899, loss=0.293]\n"
          ]
        },
        {
          "metadata": {
            "tags": null
          },
          "name": "stdout",
          "output_type": "stream",
          "text": [
            "TrainingLoss:0.29|TrainingAccuracy:89.89|EpochTime:287.00s|TestingLoss:0.49|TestingAccuracy:85.32\n",
            "\n"
          ]
        },
        {
          "metadata": {
            "tags": null
          },
          "name": "stderr",
          "output_type": "stream",
          "text": [
            "Epoch 18: 100%|██████████| 1563/1563 [05:15<00:00,  4.95it/s, accuracy=0.903, loss=0.285]\n"
          ]
        },
        {
          "metadata": {
            "tags": null
          },
          "name": "stdout",
          "output_type": "stream",
          "text": [
            "TrainingLoss:0.28|TrainingAccuracy:90.35|EpochTime:328.00s|TestingLoss:0.41|TestingAccuracy:86.14\n",
            "\n"
          ]
        },
        {
          "metadata": {
            "tags": null
          },
          "name": "stderr",
          "output_type": "stream",
          "text": [
            "Epoch 19: 100%|██████████| 1563/1563 [04:32<00:00,  5.73it/s, accuracy=0.902, loss=0.286]\n"
          ]
        },
        {
          "metadata": {
            "tags": null
          },
          "name": "stdout",
          "output_type": "stream",
          "text": [
            "TrainingLoss:0.29|TrainingAccuracy:90.25|EpochTime:285.00s|TestingLoss:0.34|TestingAccuracy:88.42\n",
            "\n"
          ]
        },
        {
          "metadata": {
            "tags": null
          },
          "name": "stderr",
          "output_type": "stream",
          "text": [
            "Epoch 20: 100%|██████████| 1563/1563 [04:33<00:00,  5.71it/s, accuracy=0.933, loss=0.2]\n"
          ]
        },
        {
          "metadata": {
            "tags": null
          },
          "name": "stdout",
          "output_type": "stream",
          "text": [
            "TrainingLoss:0.20|TrainingAccuracy:93.27|EpochTime:286.00s|TestingLoss:0.30|TestingAccuracy:90.29\n",
            "\n"
          ]
        },
        {
          "metadata": {
            "tags": null
          },
          "name": "stderr",
          "output_type": "stream",
          "text": [
            "Epoch 21: 100%|██████████| 1563/1563 [04:32<00:00,  5.74it/s, accuracy=0.939, loss=0.18]\n"
          ]
        },
        {
          "metadata": {
            "tags": null
          },
          "name": "stdout",
          "output_type": "stream",
          "text": [
            "TrainingLoss:0.18|TrainingAccuracy:93.90|EpochTime:284.00s|TestingLoss:0.28|TestingAccuracy:90.68\n",
            "\n"
          ]
        },
        {
          "metadata": {
            "tags": null
          },
          "name": "stderr",
          "output_type": "stream",
          "text": [
            "Epoch 22: 100%|██████████| 1563/1563 [04:29<00:00,  5.81it/s, accuracy=0.939, loss=0.176]\n"
          ]
        },
        {
          "metadata": {
            "tags": null
          },
          "name": "stdout",
          "output_type": "stream",
          "text": [
            "TrainingLoss:0.18|TrainingAccuracy:93.95|EpochTime:281.00s|TestingLoss:0.31|TestingAccuracy:89.76\n",
            "\n"
          ]
        },
        {
          "metadata": {
            "tags": null
          },
          "name": "stderr",
          "output_type": "stream",
          "text": [
            "Epoch 23: 100%|██████████| 1563/1563 [04:27<00:00,  5.83it/s, accuracy=0.942, loss=0.168]\n"
          ]
        },
        {
          "metadata": {
            "tags": null
          },
          "name": "stdout",
          "output_type": "stream",
          "text": [
            "TrainingLoss:0.17|TrainingAccuracy:94.21|EpochTime:280.00s|TestingLoss:0.28|TestingAccuracy:90.76\n",
            "\n"
          ]
        },
        {
          "metadata": {
            "tags": null
          },
          "name": "stderr",
          "output_type": "stream",
          "text": [
            "Epoch 24: 100%|██████████| 1563/1563 [04:49<00:00,  5.40it/s, accuracy=0.942, loss=0.168]\n"
          ]
        },
        {
          "metadata": {
            "tags": null
          },
          "name": "stdout",
          "output_type": "stream",
          "text": [
            "TrainingLoss:0.17|TrainingAccuracy:94.23|EpochTime:304.00s|TestingLoss:0.30|TestingAccuracy:90.57\n",
            "\n"
          ]
        },
        {
          "metadata": {
            "tags": null
          },
          "name": "stderr",
          "output_type": "stream",
          "text": [
            "Epoch 25: 100%|██████████| 1563/1563 [05:07<00:00,  5.09it/s, accuracy=0.944, loss=0.165]\n"
          ]
        },
        {
          "metadata": {
            "tags": null
          },
          "name": "stdout",
          "output_type": "stream",
          "text": [
            "TrainingLoss:0.16|TrainingAccuracy:94.39|EpochTime:322.00s|TestingLoss:0.32|TestingAccuracy:89.71\n",
            "\n"
          ]
        },
        {
          "metadata": {
            "tags": null
          },
          "name": "stderr",
          "output_type": "stream",
          "text": [
            "Epoch 26: 100%|██████████| 1563/1563 [05:32<00:00,  4.70it/s, accuracy=0.941, loss=0.17]\n"
          ]
        },
        {
          "metadata": {
            "tags": null
          },
          "name": "stdout",
          "output_type": "stream",
          "text": [
            "TrainingLoss:0.17|TrainingAccuracy:94.14|EpochTime:348.00s|TestingLoss:0.30|TestingAccuracy:90.51\n",
            "\n"
          ]
        },
        {
          "metadata": {
            "tags": null
          },
          "name": "stderr",
          "output_type": "stream",
          "text": [
            "Epoch 27: 100%|██████████| 1563/1563 [06:01<00:00,  4.33it/s, accuracy=0.963, loss=0.112]\n"
          ]
        },
        {
          "metadata": {
            "tags": null
          },
          "name": "stdout",
          "output_type": "stream",
          "text": [
            "TrainingLoss:0.11|TrainingAccuracy:96.35|EpochTime:378.00s|TestingLoss:0.24|TestingAccuracy:92.08\n",
            "\n"
          ]
        },
        {
          "metadata": {
            "tags": null
          },
          "name": "stderr",
          "output_type": "stream",
          "text": [
            "Epoch 28: 100%|██████████| 1563/1563 [05:46<00:00,  4.51it/s, accuracy=0.969, loss=0.0971]\n"
          ]
        },
        {
          "metadata": {
            "tags": null
          },
          "name": "stdout",
          "output_type": "stream",
          "text": [
            "TrainingLoss:0.10|TrainingAccuracy:96.90|EpochTime:362.00s|TestingLoss:0.26|TestingAccuracy:92.07\n",
            "\n"
          ]
        },
        {
          "metadata": {
            "tags": null
          },
          "name": "stderr",
          "output_type": "stream",
          "text": [
            "Epoch 29: 100%|██████████| 1563/1563 [04:56<00:00,  5.26it/s, accuracy=0.97, loss=0.0916]\n"
          ]
        },
        {
          "metadata": {
            "tags": null
          },
          "name": "stdout",
          "output_type": "stream",
          "text": [
            "TrainingLoss:0.09|TrainingAccuracy:96.98|EpochTime:312.00s|TestingLoss:0.25|TestingAccuracy:92.21\n",
            "\n"
          ]
        },
        {
          "metadata": {
            "tags": null
          },
          "name": "stderr",
          "output_type": "stream",
          "text": [
            "Epoch 30: 100%|██████████| 1563/1563 [05:08<00:00,  5.07it/s, accuracy=0.972, loss=0.0861]\n"
          ]
        },
        {
          "metadata": {
            "tags": null
          },
          "name": "stdout",
          "output_type": "stream",
          "text": [
            "TrainingLoss:0.09|TrainingAccuracy:97.19|EpochTime:322.00s|TestingLoss:0.25|TestingAccuracy:92.29\n",
            "\n"
          ]
        },
        {
          "metadata": {
            "tags": null
          },
          "name": "stderr",
          "output_type": "stream",
          "text": [
            "Epoch 31: 100%|██████████| 1563/1563 [04:30<00:00,  5.77it/s, accuracy=0.972, loss=0.0848]\n"
          ]
        },
        {
          "metadata": {
            "tags": null
          },
          "name": "stdout",
          "output_type": "stream",
          "text": [
            "TrainingLoss:0.08|TrainingAccuracy:97.24|EpochTime:283.00s|TestingLoss:0.27|TestingAccuracy:91.90\n",
            "\n"
          ]
        },
        {
          "metadata": {
            "tags": null
          },
          "name": "stderr",
          "output_type": "stream",
          "text": [
            "Epoch 32: 100%|██████████| 1563/1563 [04:29<00:00,  5.79it/s, accuracy=0.974, loss=0.0799]\n"
          ]
        },
        {
          "metadata": {
            "tags": null
          },
          "name": "stdout",
          "output_type": "stream",
          "text": [
            "TrainingLoss:0.08|TrainingAccuracy:97.39|EpochTime:282.00s|TestingLoss:0.28|TestingAccuracy:91.62\n",
            "\n"
          ]
        },
        {
          "metadata": {
            "tags": null
          },
          "name": "stderr",
          "output_type": "stream",
          "text": [
            "Epoch 33: 100%|██████████| 1563/1563 [04:31<00:00,  5.76it/s, accuracy=0.972, loss=0.0854]\n"
          ]
        },
        {
          "metadata": {
            "tags": null
          },
          "name": "stdout",
          "output_type": "stream",
          "text": [
            "TrainingLoss:0.09|TrainingAccuracy:97.23|EpochTime:283.00s|TestingLoss:0.28|TestingAccuracy:91.63\n",
            "\n"
          ]
        },
        {
          "metadata": {
            "tags": null
          },
          "name": "stderr",
          "output_type": "stream",
          "text": [
            "Epoch 34: 100%|██████████| 1563/1563 [04:29<00:00,  5.80it/s, accuracy=0.984, loss=0.0562]\n"
          ]
        },
        {
          "metadata": {
            "tags": null
          },
          "name": "stdout",
          "output_type": "stream",
          "text": [
            "TrainingLoss:0.06|TrainingAccuracy:98.36|EpochTime:281.00s|TestingLoss:0.23|TestingAccuracy:93.05\n",
            "\n"
          ]
        },
        {
          "metadata": {
            "tags": null
          },
          "name": "stderr",
          "output_type": "stream",
          "text": [
            "Epoch 35: 100%|██████████| 1563/1563 [04:28<00:00,  5.82it/s, accuracy=0.986, loss=0.0475]\n"
          ]
        },
        {
          "metadata": {
            "tags": null
          },
          "name": "stdout",
          "output_type": "stream",
          "text": [
            "TrainingLoss:0.05|TrainingAccuracy:98.64|EpochTime:281.00s|TestingLoss:0.25|TestingAccuracy:92.71\n",
            "\n"
          ]
        },
        {
          "metadata": {
            "tags": null
          },
          "name": "stderr",
          "output_type": "stream",
          "text": [
            "Epoch 36: 100%|██████████| 1563/1563 [04:35<00:00,  5.67it/s, accuracy=0.987, loss=0.0443]\n"
          ]
        },
        {
          "metadata": {
            "tags": null
          },
          "name": "stdout",
          "output_type": "stream",
          "text": [
            "TrainingLoss:0.04|TrainingAccuracy:98.75|EpochTime:288.00s|TestingLoss:0.24|TestingAccuracy:92.69\n",
            "\n"
          ]
        },
        {
          "metadata": {
            "tags": null
          },
          "name": "stderr",
          "output_type": "stream",
          "text": [
            "Epoch 37: 100%|██████████| 1563/1563 [04:27<00:00,  5.84it/s, accuracy=0.99, loss=0.0388]\n"
          ]
        },
        {
          "metadata": {
            "tags": null
          },
          "name": "stdout",
          "output_type": "stream",
          "text": [
            "TrainingLoss:0.04|TrainingAccuracy:98.98|EpochTime:279.00s|TestingLoss:0.25|TestingAccuracy:93.28\n",
            "\n"
          ]
        },
        {
          "metadata": {
            "tags": null
          },
          "name": "stderr",
          "output_type": "stream",
          "text": [
            "Epoch 38: 100%|██████████| 1563/1563 [04:27<00:00,  5.84it/s, accuracy=0.99, loss=0.0367]\n"
          ]
        },
        {
          "metadata": {
            "tags": null
          },
          "name": "stdout",
          "output_type": "stream",
          "text": [
            "TrainingLoss:0.04|TrainingAccuracy:99.02|EpochTime:280.00s|TestingLoss:0.25|TestingAccuracy:92.80\n",
            "\n"
          ]
        },
        {
          "output_type": "stream",
          "name": "stderr",
          "text": [
            "Epoch 39: 100%|██████████| 1563/1563 [04:23<00:00,  5.93it/s, accuracy=0.99, loss=0.0359]\n"
          ]
        },
        {
          "output_type": "stream",
          "name": "stdout",
          "text": [
            "TrainingLoss:0.04|TrainingAccuracy:99.03|EpochTime:275.00s|TestingLoss:0.25|TestingAccuracy:92.93\n",
            "\n"
          ]
        },
        {
          "output_type": "stream",
          "name": "stderr",
          "text": [
            "Epoch 40: 100%|██████████| 1563/1563 [04:28<00:00,  5.82it/s, accuracy=0.99, loss=0.0355]\n"
          ]
        },
        {
          "output_type": "stream",
          "name": "stdout",
          "text": [
            "TrainingLoss:0.04|TrainingAccuracy:99.04|EpochTime:280.00s|TestingLoss:0.26|TestingAccuracy:92.86\n",
            "\n"
          ]
        },
        {
          "output_type": "stream",
          "name": "stderr",
          "text": [
            "Epoch 41: 100%|██████████| 1563/1563 [04:29<00:00,  5.79it/s, accuracy=0.993, loss=0.0287]\n"
          ]
        },
        {
          "output_type": "stream",
          "name": "stdout",
          "text": [
            "TrainingLoss:0.03|TrainingAccuracy:99.27|EpochTime:282.00s|TestingLoss:0.24|TestingAccuracy:93.29\n",
            "\n"
          ]
        },
        {
          "output_type": "stream",
          "name": "stderr",
          "text": [
            "Epoch 42: 100%|██████████| 1563/1563 [04:44<00:00,  5.50it/s, accuracy=0.995, loss=0.0248]\n"
          ]
        },
        {
          "output_type": "stream",
          "name": "stdout",
          "text": [
            "TrainingLoss:0.02|TrainingAccuracy:99.46|EpochTime:298.00s|TestingLoss:0.23|TestingAccuracy:93.25\n",
            "\n"
          ]
        },
        {
          "output_type": "stream",
          "name": "stderr",
          "text": [
            "Epoch 43: 100%|██████████| 1563/1563 [05:18<00:00,  4.91it/s, accuracy=0.995, loss=0.0236]\n"
          ]
        },
        {
          "output_type": "stream",
          "name": "stdout",
          "text": [
            "TrainingLoss:0.02|TrainingAccuracy:99.45|EpochTime:333.00s|TestingLoss:0.25|TestingAccuracy:93.16\n",
            "\n"
          ]
        },
        {
          "output_type": "stream",
          "name": "stderr",
          "text": [
            "Epoch 44: 100%|██████████| 1563/1563 [04:47<00:00,  5.43it/s, accuracy=0.995, loss=0.0215]\n"
          ]
        },
        {
          "output_type": "stream",
          "name": "stdout",
          "text": [
            "TrainingLoss:0.02|TrainingAccuracy:99.55|EpochTime:300.00s|TestingLoss:0.23|TestingAccuracy:93.52\n",
            "\n"
          ]
        },
        {
          "output_type": "stream",
          "name": "stderr",
          "text": [
            "Epoch 45: 100%|██████████| 1563/1563 [04:31<00:00,  5.77it/s, accuracy=0.996, loss=0.0191]\n"
          ]
        },
        {
          "output_type": "stream",
          "name": "stdout",
          "text": [
            "TrainingLoss:0.02|TrainingAccuracy:99.65|EpochTime:283.00s|TestingLoss:0.24|TestingAccuracy:93.47\n",
            "\n"
          ]
        },
        {
          "output_type": "stream",
          "name": "stderr",
          "text": [
            "Epoch 46: 100%|██████████| 1563/1563 [04:30<00:00,  5.79it/s, accuracy=0.996, loss=0.0196]\n"
          ]
        },
        {
          "output_type": "stream",
          "name": "stdout",
          "text": [
            "TrainingLoss:0.02|TrainingAccuracy:99.62|EpochTime:282.00s|TestingLoss:0.23|TestingAccuracy:93.60\n",
            "\n"
          ]
        },
        {
          "output_type": "stream",
          "name": "stderr",
          "text": [
            "Epoch 47: 100%|██████████| 1563/1563 [04:27<00:00,  5.84it/s, accuracy=0.997, loss=0.0183]\n"
          ]
        },
        {
          "output_type": "stream",
          "name": "stdout",
          "text": [
            "TrainingLoss:0.02|TrainingAccuracy:99.65|EpochTime:280.00s|TestingLoss:0.23|TestingAccuracy:93.65\n",
            "\n"
          ]
        },
        {
          "output_type": "stream",
          "name": "stderr",
          "text": [
            "Epoch 48: 100%|██████████| 1563/1563 [04:41<00:00,  5.56it/s, accuracy=0.997, loss=0.0181]\n"
          ]
        },
        {
          "output_type": "stream",
          "name": "stdout",
          "text": [
            "TrainingLoss:0.02|TrainingAccuracy:99.66|EpochTime:295.00s|TestingLoss:0.23|TestingAccuracy:93.59\n",
            "\n"
          ]
        },
        {
          "output_type": "stream",
          "name": "stderr",
          "text": [
            "Epoch 49: 100%|██████████| 1563/1563 [04:55<00:00,  5.29it/s, accuracy=0.997, loss=0.0172]\n"
          ]
        },
        {
          "output_type": "stream",
          "name": "stdout",
          "text": [
            "TrainingLoss:0.02|TrainingAccuracy:99.69|EpochTime:307.00s|TestingLoss:0.23|TestingAccuracy:93.68\n",
            "\n"
          ]
        },
        {
          "output_type": "stream",
          "name": "stderr",
          "text": [
            "Epoch 50: 100%|██████████| 1563/1563 [05:18<00:00,  4.91it/s, accuracy=0.997, loss=0.0165]\n"
          ]
        },
        {
          "output_type": "stream",
          "name": "stdout",
          "text": [
            "TrainingLoss:0.02|TrainingAccuracy:99.73|EpochTime:330.00s|TestingLoss:0.23|TestingAccuracy:93.70\n",
            "\n"
          ]
        },
        {
          "output_type": "error",
          "ename": "FileNotFoundError",
          "evalue": "ignored",
          "traceback": [
            "\u001b[0;31m---------------------------------------------------------------------------\u001b[0m",
            "\u001b[0;31mFileNotFoundError\u001b[0m                         Traceback (most recent call last)",
            "\u001b[0;32m<ipython-input-6-f2a18b46bf1b>\u001b[0m in \u001b[0;36m<module>\u001b[0;34m\u001b[0m\n\u001b[1;32m    115\u001b[0m     \u001b[0msummary\u001b[0m\u001b[0;34m(\u001b[0m\u001b[0mmodel\u001b[0m\u001b[0;34m,\u001b[0m \u001b[0;34m(\u001b[0m\u001b[0;36m3\u001b[0m\u001b[0;34m,\u001b[0m \u001b[0;36m32\u001b[0m\u001b[0;34m,\u001b[0m \u001b[0;36m32\u001b[0m\u001b[0;34m)\u001b[0m\u001b[0;34m)\u001b[0m\u001b[0;34m\u001b[0m\u001b[0;34m\u001b[0m\u001b[0m\n\u001b[1;32m    116\u001b[0m \u001b[0;34m\u001b[0m\u001b[0m\n\u001b[0;32m--> 117\u001b[0;31m     \u001b[0mtrainingAbstraction\u001b[0m\u001b[0;34m.\u001b[0m\u001b[0mtrainEpochs\u001b[0m\u001b[0;34m(\u001b[0m\u001b[0mEPOCHS\u001b[0m\u001b[0;34m)\u001b[0m\u001b[0;34m\u001b[0m\u001b[0;34m\u001b[0m\u001b[0m\n\u001b[0m",
            "\u001b[0;32m<ipython-input-4-54ea2a36ef6a>\u001b[0m in \u001b[0;36mtrainEpochs\u001b[0;34m(self, epochs, plot_results)\u001b[0m\n\u001b[1;32m    175\u001b[0m             \u001b[0mplt\u001b[0m\u001b[0;34m.\u001b[0m\u001b[0mplot\u001b[0m\u001b[0;34m(\u001b[0m\u001b[0mX\u001b[0m\u001b[0;34m,\u001b[0m \u001b[0mself\u001b[0m\u001b[0;34m.\u001b[0m\u001b[0mtestingHistory\u001b[0m\u001b[0;34m[\u001b[0m\u001b[0;34m'loss'\u001b[0m\u001b[0;34m]\u001b[0m\u001b[0;34m,\u001b[0m \u001b[0mlabel\u001b[0m\u001b[0;34m=\u001b[0m\u001b[0;34m'test_loss'\u001b[0m\u001b[0;34m)\u001b[0m\u001b[0;34m\u001b[0m\u001b[0;34m\u001b[0m\u001b[0m\n\u001b[1;32m    176\u001b[0m             \u001b[0mplt\u001b[0m\u001b[0;34m.\u001b[0m\u001b[0mlegend\u001b[0m\u001b[0;34m(\u001b[0m\u001b[0;34m)\u001b[0m\u001b[0;34m\u001b[0m\u001b[0;34m\u001b[0m\u001b[0m\n\u001b[0;32m--> 177\u001b[0;31m             \u001b[0mplt\u001b[0m\u001b[0;34m.\u001b[0m\u001b[0msavefig\u001b[0m\u001b[0;34m(\u001b[0m\u001b[0;34m\"./outputs/\"\u001b[0m \u001b[0;34m+\u001b[0m \u001b[0mself\u001b[0m\u001b[0;34m.\u001b[0m\u001b[0mmodelName\u001b[0m \u001b[0;34m+\u001b[0m \u001b[0;34m\"LossVsEpochs.jpg\"\u001b[0m\u001b[0;34m)\u001b[0m\u001b[0;34m\u001b[0m\u001b[0;34m\u001b[0m\u001b[0m\n\u001b[0m\u001b[1;32m    178\u001b[0m \u001b[0;34m\u001b[0m\u001b[0m\n\u001b[1;32m    179\u001b[0m             \u001b[0mplt\u001b[0m\u001b[0;34m.\u001b[0m\u001b[0mfigure\u001b[0m\u001b[0;34m(\u001b[0m\u001b[0;36m2\u001b[0m\u001b[0;34m)\u001b[0m\u001b[0;34m\u001b[0m\u001b[0;34m\u001b[0m\u001b[0m\n",
            "\u001b[0;32m/usr/local/lib/python3.7/dist-packages/matplotlib/pyplot.py\u001b[0m in \u001b[0;36msavefig\u001b[0;34m(*args, **kwargs)\u001b[0m\n\u001b[1;32m    721\u001b[0m \u001b[0;32mdef\u001b[0m \u001b[0msavefig\u001b[0m\u001b[0;34m(\u001b[0m\u001b[0;34m*\u001b[0m\u001b[0margs\u001b[0m\u001b[0;34m,\u001b[0m \u001b[0;34m**\u001b[0m\u001b[0mkwargs\u001b[0m\u001b[0;34m)\u001b[0m\u001b[0;34m:\u001b[0m\u001b[0;34m\u001b[0m\u001b[0;34m\u001b[0m\u001b[0m\n\u001b[1;32m    722\u001b[0m     \u001b[0mfig\u001b[0m \u001b[0;34m=\u001b[0m \u001b[0mgcf\u001b[0m\u001b[0;34m(\u001b[0m\u001b[0;34m)\u001b[0m\u001b[0;34m\u001b[0m\u001b[0;34m\u001b[0m\u001b[0m\n\u001b[0;32m--> 723\u001b[0;31m     \u001b[0mres\u001b[0m \u001b[0;34m=\u001b[0m \u001b[0mfig\u001b[0m\u001b[0;34m.\u001b[0m\u001b[0msavefig\u001b[0m\u001b[0;34m(\u001b[0m\u001b[0;34m*\u001b[0m\u001b[0margs\u001b[0m\u001b[0;34m,\u001b[0m \u001b[0;34m**\u001b[0m\u001b[0mkwargs\u001b[0m\u001b[0;34m)\u001b[0m\u001b[0;34m\u001b[0m\u001b[0;34m\u001b[0m\u001b[0m\n\u001b[0m\u001b[1;32m    724\u001b[0m     \u001b[0mfig\u001b[0m\u001b[0;34m.\u001b[0m\u001b[0mcanvas\u001b[0m\u001b[0;34m.\u001b[0m\u001b[0mdraw_idle\u001b[0m\u001b[0;34m(\u001b[0m\u001b[0;34m)\u001b[0m   \u001b[0;31m# need this if 'transparent=True' to reset colors\u001b[0m\u001b[0;34m\u001b[0m\u001b[0;34m\u001b[0m\u001b[0m\n\u001b[1;32m    725\u001b[0m     \u001b[0;32mreturn\u001b[0m \u001b[0mres\u001b[0m\u001b[0;34m\u001b[0m\u001b[0;34m\u001b[0m\u001b[0m\n",
            "\u001b[0;32m/usr/local/lib/python3.7/dist-packages/matplotlib/figure.py\u001b[0m in \u001b[0;36msavefig\u001b[0;34m(self, fname, transparent, **kwargs)\u001b[0m\n\u001b[1;32m   2201\u001b[0m             \u001b[0mself\u001b[0m\u001b[0;34m.\u001b[0m\u001b[0mpatch\u001b[0m\u001b[0;34m.\u001b[0m\u001b[0mset_visible\u001b[0m\u001b[0;34m(\u001b[0m\u001b[0mframeon\u001b[0m\u001b[0;34m)\u001b[0m\u001b[0;34m\u001b[0m\u001b[0;34m\u001b[0m\u001b[0m\n\u001b[1;32m   2202\u001b[0m \u001b[0;34m\u001b[0m\u001b[0m\n\u001b[0;32m-> 2203\u001b[0;31m         \u001b[0mself\u001b[0m\u001b[0;34m.\u001b[0m\u001b[0mcanvas\u001b[0m\u001b[0;34m.\u001b[0m\u001b[0mprint_figure\u001b[0m\u001b[0;34m(\u001b[0m\u001b[0mfname\u001b[0m\u001b[0;34m,\u001b[0m \u001b[0;34m**\u001b[0m\u001b[0mkwargs\u001b[0m\u001b[0;34m)\u001b[0m\u001b[0;34m\u001b[0m\u001b[0;34m\u001b[0m\u001b[0m\n\u001b[0m\u001b[1;32m   2204\u001b[0m \u001b[0;34m\u001b[0m\u001b[0m\n\u001b[1;32m   2205\u001b[0m         \u001b[0;32mif\u001b[0m \u001b[0mframeon\u001b[0m\u001b[0;34m:\u001b[0m\u001b[0;34m\u001b[0m\u001b[0;34m\u001b[0m\u001b[0m\n",
            "\u001b[0;32m/usr/local/lib/python3.7/dist-packages/matplotlib/backend_bases.py\u001b[0m in \u001b[0;36mprint_figure\u001b[0;34m(self, filename, dpi, facecolor, edgecolor, orientation, format, bbox_inches, **kwargs)\u001b[0m\n\u001b[1;32m   2124\u001b[0m                     \u001b[0morientation\u001b[0m\u001b[0;34m=\u001b[0m\u001b[0morientation\u001b[0m\u001b[0;34m,\u001b[0m\u001b[0;34m\u001b[0m\u001b[0;34m\u001b[0m\u001b[0m\n\u001b[1;32m   2125\u001b[0m                     \u001b[0mbbox_inches_restore\u001b[0m\u001b[0;34m=\u001b[0m\u001b[0m_bbox_inches_restore\u001b[0m\u001b[0;34m,\u001b[0m\u001b[0;34m\u001b[0m\u001b[0;34m\u001b[0m\u001b[0m\n\u001b[0;32m-> 2126\u001b[0;31m                     **kwargs)\n\u001b[0m\u001b[1;32m   2127\u001b[0m             \u001b[0;32mfinally\u001b[0m\u001b[0;34m:\u001b[0m\u001b[0;34m\u001b[0m\u001b[0;34m\u001b[0m\u001b[0m\n\u001b[1;32m   2128\u001b[0m                 \u001b[0;32mif\u001b[0m \u001b[0mbbox_inches\u001b[0m \u001b[0;32mand\u001b[0m \u001b[0mrestore_bbox\u001b[0m\u001b[0;34m:\u001b[0m\u001b[0;34m\u001b[0m\u001b[0;34m\u001b[0m\u001b[0m\n",
            "\u001b[0;32m/usr/local/lib/python3.7/dist-packages/matplotlib/cbook/deprecation.py\u001b[0m in \u001b[0;36mwrapper\u001b[0;34m(*args, **kwargs)\u001b[0m\n\u001b[1;32m    356\u001b[0m                 \u001b[0;34mf\"%(removal)s.  If any parameter follows {name!r}, they \"\u001b[0m\u001b[0;34m\u001b[0m\u001b[0;34m\u001b[0m\u001b[0m\n\u001b[1;32m    357\u001b[0m                 f\"should be pass as keyword, not positionally.\")\n\u001b[0;32m--> 358\u001b[0;31m         \u001b[0;32mreturn\u001b[0m \u001b[0mfunc\u001b[0m\u001b[0;34m(\u001b[0m\u001b[0;34m*\u001b[0m\u001b[0margs\u001b[0m\u001b[0;34m,\u001b[0m \u001b[0;34m**\u001b[0m\u001b[0mkwargs\u001b[0m\u001b[0;34m)\u001b[0m\u001b[0;34m\u001b[0m\u001b[0;34m\u001b[0m\u001b[0m\n\u001b[0m\u001b[1;32m    359\u001b[0m \u001b[0;34m\u001b[0m\u001b[0m\n\u001b[1;32m    360\u001b[0m     \u001b[0;32mreturn\u001b[0m \u001b[0mwrapper\u001b[0m\u001b[0;34m\u001b[0m\u001b[0;34m\u001b[0m\u001b[0m\n",
            "\u001b[0;32m/usr/local/lib/python3.7/dist-packages/matplotlib/backends/backend_agg.py\u001b[0m in \u001b[0;36mprint_jpg\u001b[0;34m(self, filename_or_obj, dryrun, pil_kwargs, *args, **kwargs)\u001b[0m\n\u001b[1;32m    598\u001b[0m             \u001b[0mpil_kwargs\u001b[0m\u001b[0;34m.\u001b[0m\u001b[0msetdefault\u001b[0m\u001b[0;34m(\u001b[0m\u001b[0;34m\"dpi\"\u001b[0m\u001b[0;34m,\u001b[0m \u001b[0;34m(\u001b[0m\u001b[0mself\u001b[0m\u001b[0;34m.\u001b[0m\u001b[0mfigure\u001b[0m\u001b[0;34m.\u001b[0m\u001b[0mdpi\u001b[0m\u001b[0;34m,\u001b[0m \u001b[0mself\u001b[0m\u001b[0;34m.\u001b[0m\u001b[0mfigure\u001b[0m\u001b[0;34m.\u001b[0m\u001b[0mdpi\u001b[0m\u001b[0;34m)\u001b[0m\u001b[0;34m)\u001b[0m\u001b[0;34m\u001b[0m\u001b[0;34m\u001b[0m\u001b[0m\n\u001b[1;32m    599\u001b[0m             return background.save(\n\u001b[0;32m--> 600\u001b[0;31m                 filename_or_obj, format='jpeg', **pil_kwargs)\n\u001b[0m\u001b[1;32m    601\u001b[0m \u001b[0;34m\u001b[0m\u001b[0m\n\u001b[1;32m    602\u001b[0m         \u001b[0mprint_jpeg\u001b[0m \u001b[0;34m=\u001b[0m \u001b[0mprint_jpg\u001b[0m\u001b[0;34m\u001b[0m\u001b[0;34m\u001b[0m\u001b[0m\n",
            "\u001b[0;32m/usr/local/lib/python3.7/dist-packages/PIL/Image.py\u001b[0m in \u001b[0;36msave\u001b[0;34m(self, fp, format, **params)\u001b[0m\n\u001b[1;32m   2129\u001b[0m                 \u001b[0mfp\u001b[0m \u001b[0;34m=\u001b[0m \u001b[0mbuiltins\u001b[0m\u001b[0;34m.\u001b[0m\u001b[0mopen\u001b[0m\u001b[0;34m(\u001b[0m\u001b[0mfilename\u001b[0m\u001b[0;34m,\u001b[0m \u001b[0;34m\"r+b\"\u001b[0m\u001b[0;34m)\u001b[0m\u001b[0;34m\u001b[0m\u001b[0;34m\u001b[0m\u001b[0m\n\u001b[1;32m   2130\u001b[0m             \u001b[0;32melse\u001b[0m\u001b[0;34m:\u001b[0m\u001b[0;34m\u001b[0m\u001b[0;34m\u001b[0m\u001b[0m\n\u001b[0;32m-> 2131\u001b[0;31m                 \u001b[0mfp\u001b[0m \u001b[0;34m=\u001b[0m \u001b[0mbuiltins\u001b[0m\u001b[0;34m.\u001b[0m\u001b[0mopen\u001b[0m\u001b[0;34m(\u001b[0m\u001b[0mfilename\u001b[0m\u001b[0;34m,\u001b[0m \u001b[0;34m\"w+b\"\u001b[0m\u001b[0;34m)\u001b[0m\u001b[0;34m\u001b[0m\u001b[0;34m\u001b[0m\u001b[0m\n\u001b[0m\u001b[1;32m   2132\u001b[0m \u001b[0;34m\u001b[0m\u001b[0m\n\u001b[1;32m   2133\u001b[0m         \u001b[0;32mtry\u001b[0m\u001b[0;34m:\u001b[0m\u001b[0;34m\u001b[0m\u001b[0;34m\u001b[0m\u001b[0m\n",
            "\u001b[0;31mFileNotFoundError\u001b[0m: [Errno 2] No such file or directory: './outputs/Attempt16LossVsEpochs.jpg'"
          ]
        },
        {
          "output_type": "display_data",
          "data": {
            "text/plain": [
              "<Figure size 432x288 with 1 Axes>"
            ],
            "image/png": "[encoded data removed]"
          },
          "metadata": {
            "needs_background": "light"
          }
        }
      ]
    }
  ]
}